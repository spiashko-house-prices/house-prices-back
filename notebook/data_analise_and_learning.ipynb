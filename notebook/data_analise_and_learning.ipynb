{
 "cells": [
  {
   "cell_type": "markdown",
   "metadata": {},
   "source": [
    "## Content\n",
    "1. Data Exploration.\n",
    "  * Remove bad fields\n",
    "  * Fill NA values\n",
    "  * Transform some numerical features to categorical and vice versa\n",
    "  * Add culculated data\n",
    "  * Dealing with missing data\n",
    "  * Correlation matrix for numerical features\n",
    "  * Encode categorical features to numerical\n",
    "  * Correlation matrix for encoded categorical features\n",
    "2. Learn model\n",
    "  * Regressions\n",
    "    * Linear\n",
    "    * lasso\n",
    "    * lasso lars\n",
    "    * ridge\n",
    "    * elastic net\n",
    "    * Xgboost\n",
    "  * MLP"
   ]
  },
  {
   "cell_type": "markdown",
   "metadata": {},
   "source": [
    "## Data Exploration"
   ]
  },
  {
   "cell_type": "code",
   "execution_count": 1,
   "metadata": {
    "_cell_guid": "b1076dfc-b9ad-4769-8c92-a6c4dae69d19",
    "_uuid": "8f2839f25d086af736a60e9eeb907d3b93b6e0e5"
   },
   "outputs": [],
   "source": [
    "import pandas as pd\n",
    "import matplotlib.pyplot as plt\n",
    "import seaborn as sns\n",
    "import numpy as np\n",
    "from scipy.stats import norm\n",
    "from sklearn.preprocessing import StandardScaler\n",
    "from scipy import stats\n",
    "from IPython.display import display, HTML\n",
    "from sklearn.model_selection import train_test_split\n",
    "import warnings\n",
    "import sklearn.linear_model as linear_model\n",
    "%matplotlib inline\n",
    "\n",
    "warnings.filterwarnings('ignore')"
   ]
  },
  {
   "cell_type": "code",
   "execution_count": 2,
   "metadata": {},
   "outputs": [],
   "source": [
    "df_train = pd.read_csv('../input/train.csv')"
   ]
  },
  {
   "cell_type": "code",
   "execution_count": 3,
   "metadata": {},
   "outputs": [
    {
     "data": {
      "text/plain": [
       "(1460, 81)"
      ]
     },
     "execution_count": 3,
     "metadata": {},
     "output_type": "execute_result"
    }
   ],
   "source": [
    "df_train.shape"
   ]
  },
  {
   "cell_type": "markdown",
   "metadata": {},
   "source": [
    "### Remove bad fields"
   ]
  },
  {
   "cell_type": "code",
   "execution_count": 4,
   "metadata": {},
   "outputs": [],
   "source": [
    "features = set(df_train.columns.tolist())\n",
    "features.remove('Id')\n",
    "features.remove('OverallQual')\n",
    "features.remove('KitchenQual')\n",
    "features.remove('HeatingQC')\n",
    "features.remove('ExterQual')"
   ]
  },
  {
   "cell_type": "code",
   "execution_count": 5,
   "metadata": {},
   "outputs": [
    {
     "data": {
      "text/plain": [
       "76"
      ]
     },
     "execution_count": 5,
     "metadata": {},
     "output_type": "execute_result"
    }
   ],
   "source": [
    "len(features)"
   ]
  },
  {
   "cell_type": "markdown",
   "metadata": {},
   "source": [
    "### Fill NA values"
   ]
  },
  {
   "cell_type": "code",
   "execution_count": 6,
   "metadata": {},
   "outputs": [],
   "source": [
    "def fill_na(frame): \n",
    "    # Alley : data description says NA means \"no alley access\"\n",
    "    frame[\"Alley\"].fillna(\"None\", inplace=True)\n",
    "    # BedroomAbvGr : NA most likely means 0\n",
    "    frame[\"BedroomAbvGr\"].fillna(0, inplace=True)\n",
    "    # BsmtQual etc : data description says NA for basement features is \"no basement\"\n",
    "    frame[\"BsmtQual\"].fillna(\"No\", inplace=True)\n",
    "    frame[\"BsmtCond\"].fillna(\"No\", inplace=True)\n",
    "    frame[\"BsmtExposure\"].fillna(\"No\", inplace=True)\n",
    "    frame[\"BsmtFinType1\"].fillna(\"No\", inplace=True)\n",
    "    frame[\"BsmtFinType2\"].fillna(\"No\", inplace=True)\n",
    "    frame[\"BsmtFullBath\"].fillna(0, inplace=True)\n",
    "    frame[\"BsmtHalfBath\"].fillna(0, inplace=True)\n",
    "    frame[\"BsmtUnfSF\"].fillna(0, inplace=True)\n",
    "    # CentralAir : NA most likely means No\n",
    "    frame[\"CentralAir\"].fillna(\"N\", inplace=True)\n",
    "    # Condition : NA most likely means Normal\n",
    "    frame[\"Condition1\"].fillna(\"Norm\", inplace=True)\n",
    "    frame[\"Condition2\"].fillna(\"Norm\", inplace=True)\n",
    "    # EnclosedPorch : NA most likely means no enclosed porch\n",
    "    frame[\"EnclosedPorch\"].fillna(0, inplace=True)\n",
    "    # External stuff : NA most likely means average\n",
    "    frame[\"ExterCond\"].fillna(\"TA\", inplace=True)\n",
    "    frame[\"ExterQual\"].fillna(\"TA\", inplace=True)\n",
    "    # Fence : data description says NA means \"no fence\"\n",
    "    frame[\"Fence\"].fillna(\"No\", inplace=True)\n",
    "    # FireplaceQu : data description says NA means \"no fireplace\"\n",
    "    frame[\"FireplaceQu\"].fillna(\"No\", inplace=True)\n",
    "    frame[\"Fireplaces\"].fillna(0, inplace=True)\n",
    "    # Functional : data description says NA means typical\n",
    "    frame[\"Functional\"].fillna(\"Typ\", inplace=True)\n",
    "    # GarageType etc : data description says NA for garage features is \"no garage\"\n",
    "    frame[\"GarageType\"].fillna(\"No\", inplace=True)\n",
    "    frame[\"GarageFinish\"].fillna(\"No\", inplace=True)\n",
    "    frame[\"GarageQual\"].fillna(\"No\", inplace=True)\n",
    "    frame[\"GarageCond\"].fillna(\"No\", inplace=True)\n",
    "    frame[\"GarageArea\"].fillna(0, inplace=True)\n",
    "    frame[\"GarageCars\"].fillna(0, inplace=True)\n",
    "    # HalfBath : NA most likely means no half baths above grade\n",
    "    frame[\"HalfBath\"].fillna(0, inplace=True)\n",
    "    # HeatingQC : NA most likely means typical\n",
    "    frame[\"HeatingQC\"].fillna(\"TA\", inplace=True)\n",
    "    # KitchenAbvGr : NA most likely means 0\n",
    "    frame[\"KitchenAbvGr\"].fillna(0, inplace=True)\n",
    "    # KitchenQual : NA most likely means typical\n",
    "    frame[\"KitchenQual\"].fillna(\"TA\", inplace=True)\n",
    "    # LotFrontage : NA most likely means no lot frontage\n",
    "    frame[\"LotFrontage\"].fillna(0, inplace=True)\n",
    "    # LotShape : NA most likely means regular\n",
    "    frame[\"LotShape\"].fillna(\"Reg\", inplace=True)\n",
    "    # MasVnrType : NA most likely means no veneer\n",
    "    frame[\"MasVnrType\"].fillna(\"None\", inplace=True)\n",
    "    frame[\"MasVnrArea\"].fillna(0, inplace=True)\n",
    "    # MiscFeature : data description says NA means \"no misc feature\"\n",
    "    frame[\"MiscFeature\"].fillna(\"No\", inplace=True)\n",
    "    frame[\"MiscVal\"].fillna(0, inplace=True)\n",
    "    # OpenPorchSF : NA most likely means no open porch\n",
    "    frame[\"OpenPorchSF\"].fillna(0, inplace=True)\n",
    "    # PavedDrive : NA most likely means not paved\n",
    "    frame[\"PavedDrive\"].fillna(\"N\", inplace=True)\n",
    "    # PoolQC : data description says NA means \"no pool\"\n",
    "    frame[\"PoolQC\"].fillna(\"No\", inplace=True)\n",
    "    frame[\"PoolArea\"].fillna(0, inplace=True)\n",
    "    # SaleCondition : NA most likely means normal sale\n",
    "    frame[\"SaleCondition\"].fillna(\"Normal\", inplace=True)\n",
    "    # ScreenPorch : NA most likely means no screen porch\n",
    "    frame[\"ScreenPorch\"].fillna(0, inplace=True)\n",
    "    # TotRmsAbvGrd : NA most likely means 0\n",
    "    frame[\"TotRmsAbvGrd\"].fillna(0, inplace=True)\n",
    "    # Utilities : NA most likely means all public utilities\n",
    "    frame[\"Utilities\"].fillna(\"AllPub\", inplace=True)\n",
    "    # WoodDeckSF : NA most likely means no wood deck\n",
    "    frame[\"WoodDeckSF\"].fillna(0, inplace=True)\n",
    "    \n",
    "fill_na(df_train)"
   ]
  },
  {
   "cell_type": "markdown",
   "metadata": {},
   "source": [
    "### Transform some numerical features to categorical and vice versa"
   ]
  },
  {
   "cell_type": "code",
   "execution_count": 7,
   "metadata": {},
   "outputs": [],
   "source": [
    "def make_transform(frame):\n",
    "    \n",
    "    # Some numerical features are actually really categories\n",
    "\n",
    "    frame.replace(\n",
    "        {\n",
    "            \"MSSubClass\": {20: \"SC20\", 30: \"SC30\", 40: \"SC40\", 45: \"SC45\",\n",
    "                           50: \"SC50\", 60: \"SC60\", 70: \"SC70\", 75: \"SC75\",\n",
    "                           80: \"SC80\", 85: \"SC85\", 90: \"SC90\", 120: \"SC120\",\n",
    "                           150: \"SC150\", 160: \"SC160\", 180: \"SC180\", 190: \"SC190\"},\n",
    "            \"MoSold\": {1: \"Jan\", 2: \"Feb\", 3: \"Mar\", 4: \"Apr\", 5: \"May\", 6: \"Jun\",\n",
    "                       7: \"Jul\", 8: \"Aug\", 9: \"Sep\", 10: \"Oct\", 11: \"Nov\", 12: \"Dec\"}\n",
    "        },\n",
    "        inplace=True\n",
    "    )\n",
    "\n",
    "    # Encode some categorical features as ordered numbers when there is information in the order\n",
    "\n",
    "    frame.replace(\n",
    "        {\"Alley\": {\"Grvl\": 1, \"Pave\": 2},\n",
    "         \"BsmtCond\": {\"No\": 0, \"Po\": 1, \"Fa\": 2, \"TA\": 3, \"Gd\": 4, \"Ex\": 5},\n",
    "         \"BsmtExposure\": {\"No\": 0, \"Mn\": 1, \"Av\": 2, \"Gd\": 3},\n",
    "         \"BsmtFinType1\": {\"No\": 0, \"Unf\": 1, \"LwQ\": 2, \"Rec\": 3, \"BLQ\": 4, \"ALQ\": 5, \"GLQ\": 6},\n",
    "         \"BsmtFinType2\": {\"No\": 0, \"Unf\": 1, \"LwQ\": 2, \"Rec\": 3, \"BLQ\": 4, \"ALQ\": 5, \"GLQ\": 6},\n",
    "         \"BsmtQual\": {\"No\": 0, \"Po\": 1, \"Fa\": 2, \"TA\": 3, \"Gd\": 4, \"Ex\": 5},\n",
    "         \"ExterCond\": {\"Po\": 1, \"Fa\": 2, \"TA\": 3, \"Gd\": 4, \"Ex\": 5},\n",
    "         \"ExterQual\": {\"Po\": 1, \"Fa\": 2, \"TA\": 3, \"Gd\": 4, \"Ex\": 5},\n",
    "         \"FireplaceQu\": {\"No\": 0, \"Po\": 1, \"Fa\": 2, \"TA\": 3, \"Gd\": 4, \"Ex\": 5},\n",
    "         \"Functional\": {\"Sal\": 1, \"Sev\": 2, \"Maj2\": 3, \"Maj1\": 4, \"Mod\": 5, \"Min2\": 6, \"Min1\": 7, \"Typ\": 8},\n",
    "         \"GarageCond\": {\"No\": 0, \"Po\": 1, \"Fa\": 2, \"TA\": 3, \"Gd\": 4, \"Ex\": 5},\n",
    "         \"GarageQual\": {\"No\": 0, \"Po\": 1, \"Fa\": 2, \"TA\": 3, \"Gd\": 4, \"Ex\": 5},\n",
    "         \"HeatingQC\": {\"Po\": 1, \"Fa\": 2, \"TA\": 3, \"Gd\": 4, \"Ex\": 5},\n",
    "         \"KitchenQual\": {\"Po\": 1, \"Fa\": 2, \"TA\": 3, \"Gd\": 4, \"Ex\": 5},\n",
    "         \"LandSlope\": {\"Sev\": 1, \"Mod\": 2, \"Gtl\": 3},\n",
    "         \"LotShape\": {\"IR3\": 1, \"IR2\": 2, \"IR1\": 3, \"Reg\": 4},\n",
    "         \"PavedDrive\": {\"N\": 0, \"P\": 1, \"Y\": 2},\n",
    "         \"PoolQC\": {\"No\": 0, \"Fa\": 1, \"TA\": 2, \"Gd\": 3, \"Ex\": 4},\n",
    "         \"Street\": {\"Grvl\": 1, \"Pave\": 2},\n",
    "         \"Utilities\": {\"ELO\": 1, \"NoSeWa\": 2, \"NoSewr\": 3, \"AllPub\": 4}\n",
    "         },\n",
    "        inplace=True\n",
    "    )\n",
    "    \n",
    "make_transform(df_train)"
   ]
  },
  {
   "cell_type": "markdown",
   "metadata": {},
   "source": [
    "### Dealing with missing data"
   ]
  },
  {
   "cell_type": "code",
   "execution_count": 8,
   "metadata": {},
   "outputs": [
    {
     "data": {
      "text/html": [
       "<div>\n",
       "<style scoped>\n",
       "    .dataframe tbody tr th:only-of-type {\n",
       "        vertical-align: middle;\n",
       "    }\n",
       "\n",
       "    .dataframe tbody tr th {\n",
       "        vertical-align: top;\n",
       "    }\n",
       "\n",
       "    .dataframe thead th {\n",
       "        text-align: right;\n",
       "    }\n",
       "</style>\n",
       "<table border=\"1\" class=\"dataframe\">\n",
       "  <thead>\n",
       "    <tr style=\"text-align: right;\">\n",
       "      <th></th>\n",
       "      <th>Total</th>\n",
       "      <th>Percent</th>\n",
       "    </tr>\n",
       "  </thead>\n",
       "  <tbody>\n",
       "    <tr>\n",
       "      <th>GarageYrBlt</th>\n",
       "      <td>81</td>\n",
       "      <td>0.055479</td>\n",
       "    </tr>\n",
       "    <tr>\n",
       "      <th>Electrical</th>\n",
       "      <td>1</td>\n",
       "      <td>0.000685</td>\n",
       "    </tr>\n",
       "    <tr>\n",
       "      <th>SalePrice</th>\n",
       "      <td>0</td>\n",
       "      <td>0.000000</td>\n",
       "    </tr>\n",
       "    <tr>\n",
       "      <th>ExterCond</th>\n",
       "      <td>0</td>\n",
       "      <td>0.000000</td>\n",
       "    </tr>\n",
       "    <tr>\n",
       "      <th>RoofStyle</th>\n",
       "      <td>0</td>\n",
       "      <td>0.000000</td>\n",
       "    </tr>\n",
       "  </tbody>\n",
       "</table>\n",
       "</div>"
      ],
      "text/plain": [
       "             Total   Percent\n",
       "GarageYrBlt     81  0.055479\n",
       "Electrical       1  0.000685\n",
       "SalePrice        0  0.000000\n",
       "ExterCond        0  0.000000\n",
       "RoofStyle        0  0.000000"
      ]
     },
     "execution_count": 8,
     "metadata": {},
     "output_type": "execute_result"
    }
   ],
   "source": [
    "#missing data\n",
    "total = df_train.isnull().sum().sort_values(ascending=False)\n",
    "percent = (df_train.isnull().sum()/df_train.isnull().count()).sort_values(ascending=False)\n",
    "missing_data = pd.concat([total, percent], axis=1, keys=['Total', 'Percent'])\n",
    "missing_data.head(5)"
   ]
  },
  {
   "cell_type": "code",
   "execution_count": 9,
   "metadata": {},
   "outputs": [],
   "source": [
    "# remove features where data is missed more then 5 times\n",
    "features = features.difference(set((missing_data[missing_data['Total'] > 5]).index.tolist()))"
   ]
  },
  {
   "cell_type": "code",
   "execution_count": 10,
   "metadata": {},
   "outputs": [
    {
     "data": {
      "text/plain": [
       "0"
      ]
     },
     "execution_count": 10,
     "metadata": {},
     "output_type": "execute_result"
    }
   ],
   "source": [
    "# remove left images where data is missed\n",
    "df_train = df_train.drop(df_train.loc[df_train.isnull().any(axis=1)].index)\n",
    "df_train[list(features)].isnull().sum().max() #just checking that there's no missing data missing..."
   ]
  },
  {
   "cell_type": "code",
   "execution_count": 11,
   "metadata": {},
   "outputs": [
    {
     "data": {
      "text/plain": [
       "75"
      ]
     },
     "execution_count": 11,
     "metadata": {},
     "output_type": "execute_result"
    }
   ],
   "source": [
    "# features left\n",
    "len(features)"
   ]
  },
  {
   "cell_type": "markdown",
   "metadata": {},
   "source": [
    "### Lists of numerical and categorical features"
   ]
  },
  {
   "cell_type": "code",
   "execution_count": 12,
   "metadata": {},
   "outputs": [
    {
     "data": {
      "text/plain": [
       "{'float64': Index(['MasVnrArea', 'LotFrontage'], dtype='object'),\n",
       " 'int64': Index(['BsmtFullBath', 'YearBuilt', 'KitchenAbvGr', 'PavedDrive', 'WoodDeckSF',\n",
       "        '1stFlrSF', 'LotArea', 'GarageQual', 'GrLivArea', 'SalePrice',\n",
       "        'LowQualFinSF', 'BsmtQual', 'Functional', 'LandSlope', 'BsmtFinType1',\n",
       "        'OpenPorchSF', 'BsmtFinSF1', 'BsmtHalfBath', 'GarageArea', 'Street',\n",
       "        'LotShape', 'FullBath', '3SsnPorch', 'YearRemodAdd', 'Utilities',\n",
       "        'PoolArea', 'Fireplaces', 'MiscVal', 'YrSold', 'BsmtUnfSF',\n",
       "        'BsmtFinSF2', 'GarageCars', 'EnclosedPorch', 'OverallCond',\n",
       "        'BsmtExposure', 'TotalBsmtSF', '2ndFlrSF', 'HalfBath', 'TotRmsAbvGrd',\n",
       "        'BedroomAbvGr', 'BsmtFinType2', 'FireplaceQu', 'ScreenPorch',\n",
       "        'BsmtCond', 'GarageCond', 'ExterCond', 'PoolQC'],\n",
       "       dtype='object'),\n",
       " 'object': Index(['Fence', 'GarageFinish', 'SaleCondition', 'BldgType', 'GarageType',\n",
       "        'Foundation', 'Neighborhood', 'Condition1', 'MiscFeature', 'MoSold',\n",
       "        'Exterior2nd', 'Heating', 'MSSubClass', 'MSZoning', 'Condition2',\n",
       "        'MasVnrType', 'RoofStyle', 'Electrical', 'LandContour', 'LotConfig',\n",
       "        'Exterior1st', 'HouseStyle', 'CentralAir', 'SaleType', 'Alley',\n",
       "        'RoofMatl'],\n",
       "       dtype='object')}"
      ]
     },
     "execution_count": 12,
     "metadata": {},
     "output_type": "execute_result"
    }
   ],
   "source": [
    "# get categorical features list\n",
    "g = {k.name: v for k, v in df_train[list(features)].columns.to_series().groupby(df_train.dtypes).groups.items()}\n",
    "categorical = g[\"object\"].tolist()\n",
    "numerical = g[\"float64\"].tolist() + g[\"int64\"].tolist()\n",
    "g"
   ]
  },
  {
   "cell_type": "markdown",
   "metadata": {},
   "source": [
    "### Correlation matrix for numerical features"
   ]
  },
  {
   "cell_type": "code",
   "execution_count": 13,
   "metadata": {},
   "outputs": [
    {
     "data": {
      "text/plain": [
       "['MasVnrArea',\n",
       " 'LotFrontage',\n",
       " 'BsmtFullBath',\n",
       " 'YearBuilt',\n",
       " 'KitchenAbvGr',\n",
       " 'PavedDrive',\n",
       " 'WoodDeckSF',\n",
       " '1stFlrSF',\n",
       " 'LotArea',\n",
       " 'GarageQual',\n",
       " 'GrLivArea',\n",
       " 'SalePrice',\n",
       " 'LowQualFinSF',\n",
       " 'BsmtQual',\n",
       " 'Functional',\n",
       " 'LandSlope',\n",
       " 'BsmtFinType1',\n",
       " 'OpenPorchSF',\n",
       " 'BsmtFinSF1',\n",
       " 'BsmtHalfBath',\n",
       " 'GarageArea',\n",
       " 'Street',\n",
       " 'LotShape',\n",
       " 'FullBath',\n",
       " '3SsnPorch',\n",
       " 'YearRemodAdd',\n",
       " 'Utilities',\n",
       " 'PoolArea',\n",
       " 'Fireplaces',\n",
       " 'MiscVal',\n",
       " 'YrSold',\n",
       " 'BsmtUnfSF',\n",
       " 'BsmtFinSF2',\n",
       " 'GarageCars',\n",
       " 'EnclosedPorch',\n",
       " 'OverallCond',\n",
       " 'BsmtExposure',\n",
       " 'TotalBsmtSF',\n",
       " '2ndFlrSF',\n",
       " 'HalfBath',\n",
       " 'TotRmsAbvGrd',\n",
       " 'BedroomAbvGr',\n",
       " 'BsmtFinType2',\n",
       " 'FireplaceQu',\n",
       " 'ScreenPorch',\n",
       " 'BsmtCond',\n",
       " 'GarageCond',\n",
       " 'ExterCond',\n",
       " 'PoolQC']"
      ]
     },
     "execution_count": 13,
     "metadata": {},
     "output_type": "execute_result"
    }
   ],
   "source": [
    "# numerical features list\n",
    "numerical"
   ]
  },
  {
   "cell_type": "code",
   "execution_count": 14,
   "metadata": {},
   "outputs": [
    {
     "data": {
      "text/plain": [
       "<matplotlib.axes._subplots.AxesSubplot at 0x7f9321628fd0>"
      ]
     },
     "execution_count": 14,
     "metadata": {},
     "output_type": "execute_result"
    },
    {
     "data": {
      "image/png": "[encoded data removed]",
      "text/plain": [
       "<matplotlib.figure.Figure at 0x7f931a6d59e8>"
      ]
     },
     "metadata": {},
     "output_type": "display_data"
    }
   ],
   "source": [
    "numerical_df = df_train[numerical]\n",
    "\n",
    "#correlation matrix\n",
    "corrmat = numerical_df.corr().abs()\n",
    "# sort columns in df by SalePrice correlation\n",
    "cols = corrmat.sort_values([\"SalePrice\"])['SalePrice'].index\n",
    "# get new correlation matrix with sorted columns\n",
    "cm = numerical_df[cols].corr().abs()\n",
    "# show plot\n",
    "sns.set(rc={'figure.figsize':(15,15)})\n",
    "sns.heatmap(cm, vmax=.8, square=True, yticklabels=cols.values, xticklabels=cols.values)"
   ]
  },
  {
   "cell_type": "code",
   "execution_count": 15,
   "metadata": {},
   "outputs": [
    {
     "data": {
      "text/html": [
       "<div>\n",
       "<style scoped>\n",
       "    .dataframe tbody tr th:only-of-type {\n",
       "        vertical-align: middle;\n",
       "    }\n",
       "\n",
       "    .dataframe tbody tr th {\n",
       "        vertical-align: top;\n",
       "    }\n",
       "\n",
       "    .dataframe thead th {\n",
       "        text-align: right;\n",
       "    }\n",
       "</style>\n",
       "<table border=\"1\" class=\"dataframe\">\n",
       "  <thead>\n",
       "    <tr style=\"text-align: right;\">\n",
       "      <th></th>\n",
       "      <th>BsmtFinType2</th>\n",
       "      <th>PoolArea</th>\n",
       "      <th>Fireplaces</th>\n",
       "      <th>TotRmsAbvGrd</th>\n",
       "      <th>1stFlrSF</th>\n",
       "      <th>GarageArea</th>\n",
       "      <th>SalePrice</th>\n",
       "    </tr>\n",
       "  </thead>\n",
       "  <tbody>\n",
       "    <tr>\n",
       "      <th>BsmtFinSF2</th>\n",
       "      <td>0.788598</td>\n",
       "      <td>NaN</td>\n",
       "      <td>NaN</td>\n",
       "      <td>NaN</td>\n",
       "      <td>NaN</td>\n",
       "      <td>NaN</td>\n",
       "      <td>0.023292</td>\n",
       "    </tr>\n",
       "    <tr>\n",
       "      <th>PoolQC</th>\n",
       "      <td>NaN</td>\n",
       "      <td>0.899898</td>\n",
       "      <td>NaN</td>\n",
       "      <td>NaN</td>\n",
       "      <td>NaN</td>\n",
       "      <td>NaN</td>\n",
       "      <td>0.115677</td>\n",
       "    </tr>\n",
       "    <tr>\n",
       "      <th>FireplaceQu</th>\n",
       "      <td>NaN</td>\n",
       "      <td>NaN</td>\n",
       "      <td>0.857491</td>\n",
       "      <td>NaN</td>\n",
       "      <td>NaN</td>\n",
       "      <td>NaN</td>\n",
       "      <td>0.502347</td>\n",
       "    </tr>\n",
       "    <tr>\n",
       "      <th>TotalBsmtSF</th>\n",
       "      <td>NaN</td>\n",
       "      <td>NaN</td>\n",
       "      <td>NaN</td>\n",
       "      <td>NaN</td>\n",
       "      <td>0.822318</td>\n",
       "      <td>NaN</td>\n",
       "      <td>0.603883</td>\n",
       "    </tr>\n",
       "    <tr>\n",
       "      <th>GarageCars</th>\n",
       "      <td>NaN</td>\n",
       "      <td>NaN</td>\n",
       "      <td>NaN</td>\n",
       "      <td>NaN</td>\n",
       "      <td>NaN</td>\n",
       "      <td>0.831663</td>\n",
       "      <td>0.637151</td>\n",
       "    </tr>\n",
       "    <tr>\n",
       "      <th>GrLivArea</th>\n",
       "      <td>NaN</td>\n",
       "      <td>NaN</td>\n",
       "      <td>NaN</td>\n",
       "      <td>0.821076</td>\n",
       "      <td>NaN</td>\n",
       "      <td>NaN</td>\n",
       "      <td>0.708160</td>\n",
       "    </tr>\n",
       "    <tr>\n",
       "      <th>SalePrice</th>\n",
       "      <td>0.018760</td>\n",
       "      <td>0.091509</td>\n",
       "      <td>0.448883</td>\n",
       "      <td>0.538381</td>\n",
       "      <td>0.595024</td>\n",
       "      <td>0.608392</td>\n",
       "      <td>1.000000</td>\n",
       "    </tr>\n",
       "  </tbody>\n",
       "</table>\n",
       "</div>"
      ],
      "text/plain": [
       "             BsmtFinType2  PoolArea  Fireplaces  TotRmsAbvGrd  1stFlrSF  \\\n",
       "BsmtFinSF2       0.788598       NaN         NaN           NaN       NaN   \n",
       "PoolQC                NaN  0.899898         NaN           NaN       NaN   \n",
       "FireplaceQu           NaN       NaN    0.857491           NaN       NaN   \n",
       "TotalBsmtSF           NaN       NaN         NaN           NaN  0.822318   \n",
       "GarageCars            NaN       NaN         NaN           NaN       NaN   \n",
       "GrLivArea             NaN       NaN         NaN      0.821076       NaN   \n",
       "SalePrice        0.018760  0.091509    0.448883      0.538381  0.595024   \n",
       "\n",
       "             GarageArea  SalePrice  \n",
       "BsmtFinSF2          NaN   0.023292  \n",
       "PoolQC              NaN   0.115677  \n",
       "FireplaceQu         NaN   0.502347  \n",
       "TotalBsmtSF         NaN   0.603883  \n",
       "GarageCars     0.831663   0.637151  \n",
       "GrLivArea           NaN   0.708160  \n",
       "SalePrice      0.608392   1.000000  "
      ]
     },
     "execution_count": 15,
     "metadata": {},
     "output_type": "execute_result"
    }
   ],
   "source": [
    "# dealing with features which highly correlated with each other\n",
    "\n",
    "# features which correlated with each other more then this threshold should be considered to remove\n",
    "thresh = 0.7\n",
    "\n",
    "# mask to go through only under diagonal triangle\n",
    "mask = np.ones(cm.shape,dtype='bool')\n",
    "mask[np.triu_indices(len(cm))] = False\n",
    "\n",
    "highly_corr_cm = cm.drop(index=['SalePrice'],columns=['SalePrice'])[(cm>thresh)&mask].dropna(axis=0, how='all').dropna(axis=1, how='all')\n",
    "highly_corr_cm = highly_corr_cm.append(cm['SalePrice'][highly_corr_cm.columns])\n",
    "highly_corr_cm['SalePrice'] = cm['SalePrice'][highly_corr_cm.index]\n",
    "highly_corr_cm"
   ]
  },
  {
   "cell_type": "code",
   "execution_count": 16,
   "metadata": {},
   "outputs": [],
   "source": [
    "columns_to_remove = [\n",
    "    \"BsmtFinType2\",\n",
    "    \"BsmtFinSF2\",\n",
    "    \"PoolQC\",\n",
    "    \"GarageCond\",\n",
    "    \"Fireplaces\",\n",
    "    \"1stFlrSF\",\n",
    "    \"GarageArea\",\n",
    "    \"TotRmsAbvGrd\"]"
   ]
  },
  {
   "cell_type": "code",
   "execution_count": 17,
   "metadata": {},
   "outputs": [],
   "source": [
    "numerical_df.drop(columns=columns_to_remove, inplace=True)"
   ]
  },
  {
   "cell_type": "code",
   "execution_count": 18,
   "metadata": {},
   "outputs": [
    {
     "data": {
      "text/plain": [
       "<matplotlib.axes._subplots.AxesSubplot at 0x7f9316fc7668>"
      ]
     },
     "execution_count": 18,
     "metadata": {},
     "output_type": "execute_result"
    },
    {
     "data": {
      "image/png": "[encoded data removed]",
      "text/plain": [
       "<matplotlib.figure.Figure at 0x7f9317032ef0>"
      ]
     },
     "metadata": {},
     "output_type": "display_data"
    }
   ],
   "source": [
    "#saleprice correlation matrix\n",
    "corrmat = numerical_df.corr().abs()\n",
    "k = 10 #number of variables for heatmap\n",
    "cols = corrmat.nlargest(k+1, 'SalePrice')['SalePrice'].index\n",
    "cm = numerical_df[cols].corr().abs()\n",
    "sns.set(rc={'figure.figsize':(9,9)})\n",
    "sns.heatmap(cm, vmax=.8, cbar=True, annot=True, square=True, fmt='.2f', annot_kws={'size': 10}, yticklabels=cols.values, xticklabels=cols.values)"
   ]
  },
  {
   "cell_type": "code",
   "execution_count": 19,
   "metadata": {},
   "outputs": [
    {
     "data": {
      "text/plain": [
       "['GrLivArea',\n",
       " 'GarageCars',\n",
       " 'TotalBsmtSF',\n",
       " 'BsmtQual',\n",
       " 'FullBath',\n",
       " 'YearBuilt',\n",
       " 'YearRemodAdd',\n",
       " 'FireplaceQu',\n",
       " 'MasVnrArea',\n",
       " 'BsmtFinSF1']"
      ]
     },
     "execution_count": 19,
     "metadata": {},
     "output_type": "execute_result"
    }
   ],
   "source": [
    "selected_numerical_features = cols.drop('SalePrice').tolist()\n",
    "selected_numerical_features"
   ]
  },
  {
   "cell_type": "markdown",
   "metadata": {},
   "source": [
    "### Encode categorical features to numerical"
   ]
  },
  {
   "cell_type": "code",
   "execution_count": 20,
   "metadata": {},
   "outputs": [
    {
     "data": {
      "text/plain": [
       "['Fence',\n",
       " 'GarageFinish',\n",
       " 'SaleCondition',\n",
       " 'BldgType',\n",
       " 'GarageType',\n",
       " 'Foundation',\n",
       " 'Neighborhood',\n",
       " 'Condition1',\n",
       " 'MiscFeature',\n",
       " 'MoSold',\n",
       " 'Exterior2nd',\n",
       " 'Heating',\n",
       " 'MSSubClass',\n",
       " 'MSZoning',\n",
       " 'Condition2',\n",
       " 'MasVnrType',\n",
       " 'RoofStyle',\n",
       " 'Electrical',\n",
       " 'LandContour',\n",
       " 'LotConfig',\n",
       " 'Exterior1st',\n",
       " 'HouseStyle',\n",
       " 'CentralAir',\n",
       " 'SaleType',\n",
       " 'Alley',\n",
       " 'RoofMatl']"
      ]
     },
     "execution_count": 20,
     "metadata": {},
     "output_type": "execute_result"
    }
   ],
   "source": [
    "# categorical features list\n",
    "categorical"
   ]
  },
  {
   "cell_type": "code",
   "execution_count": 21,
   "metadata": {},
   "outputs": [
    {
     "data": {
      "text/plain": [
       "26"
      ]
     },
     "execution_count": 21,
     "metadata": {},
     "output_type": "execute_result"
    }
   ],
   "source": [
    "len(categorical)"
   ]
  },
  {
   "cell_type": "code",
   "execution_count": 22,
   "metadata": {},
   "outputs": [
    {
     "data": {
      "text/plain": [
       "<matplotlib.axes._subplots.AxesSubplot at 0x7f9316e0bcf8>"
      ]
     },
     "execution_count": 22,
     "metadata": {},
     "output_type": "execute_result"
    },
    {
     "data": {
      "image/png": "[encoded data removed]",
      "text/plain": [
       "<matplotlib.figure.Figure at 0x7f9316df76d8>"
      ]
     },
     "metadata": {},
     "output_type": "display_data"
    }
   ],
   "source": [
    "# perform ANOVA test \n",
    "\n",
    "def anova(frame, qualitative):\n",
    "    anv = pd.DataFrame()\n",
    "    anv['feature'] = qualitative\n",
    "    pvals = []\n",
    "    for c in qualitative:\n",
    "        samples = []\n",
    "        for cls in frame[c].unique():\n",
    "            s = frame[frame[c] == cls]['SalePrice'].values\n",
    "            samples.append(s)\n",
    "        pval = stats.f_oneway(*samples)[1]\n",
    "        pvals.append(pval)\n",
    "    anv['pval'] = pvals\n",
    "    return anv.sort_values('pval')\n",
    "\n",
    "a = anova(df_train, g[\"object\"].tolist())\n",
    "a['disparity'] = np.log(1./a['pval'].values)\n",
    "sns.barplot(data=a, y='feature', x='disparity')"
   ]
  },
  {
   "cell_type": "code",
   "execution_count": 23,
   "metadata": {},
   "outputs": [],
   "source": [
    "# perform encoding\n",
    "\n",
    "dummies = {}\n",
    "\n",
    "def encode(frame, feature):\n",
    "    ordering = pd.DataFrame()\n",
    "    ordering['val'] = frame[feature].unique()\n",
    "    ordering.index = ordering.val\n",
    "    ordering['spmean'] = frame[[feature, 'SalePrice']].groupby(feature).mean()['SalePrice']\n",
    "    ordering = ordering.sort_values('spmean')\n",
    "    ordering['ordering'] = range(1, ordering.shape[0]+1)\n",
    "    ordering = ordering['ordering'].to_dict()\n",
    "    \n",
    "    for cat, o in ordering.items():\n",
    "        frame.loc[frame[feature] == cat, feature] = o\n",
    "    \n",
    "    return ordering\n",
    "    \n",
    "for c in categorical:  \n",
    "    dummies[c] = encode(df_train, c)"
   ]
  },
  {
   "cell_type": "code",
   "execution_count": 24,
   "metadata": {},
   "outputs": [
    {
     "data": {
      "text/plain": [
       "<matplotlib.axes._subplots.AxesSubplot at 0x7f9316dd3ef0>"
      ]
     },
     "execution_count": 24,
     "metadata": {},
     "output_type": "execute_result"
    },
    {
     "data": {
      "image/png": "[encoded data removed]",
      "text/plain": [
       "<matplotlib.figure.Figure at 0x7f9316ecc978>"
      ]
     },
     "metadata": {},
     "output_type": "display_data"
    }
   ],
   "source": [
    "categorical_df = df_train[categorical + ['SalePrice']]\n",
    "\n",
    "#correlation matrix\n",
    "corrmat = categorical_df.corr().abs()\n",
    "cols = corrmat.sort_values([\"SalePrice\"])['SalePrice'].index\n",
    "cm = categorical_df[cols].corr().abs()\n",
    "sns.set(rc={'figure.figsize':(15,15)})\n",
    "sns.heatmap(cm, vmax=.8, square=True, yticklabels=cols.values, xticklabels=cols.values)"
   ]
  },
  {
   "cell_type": "code",
   "execution_count": 25,
   "metadata": {},
   "outputs": [],
   "source": [
    "mask = np.ones(cm.shape,dtype='bool')\n",
    "mask[np.triu_indices(len(cm))] = False"
   ]
  },
  {
   "cell_type": "code",
   "execution_count": 26,
   "metadata": {},
   "outputs": [
    {
     "data": {
      "text/html": [
       "<div>\n",
       "<style scoped>\n",
       "    .dataframe tbody tr th:only-of-type {\n",
       "        vertical-align: middle;\n",
       "    }\n",
       "\n",
       "    .dataframe tbody tr th {\n",
       "        vertical-align: top;\n",
       "    }\n",
       "\n",
       "    .dataframe thead th {\n",
       "        text-align: right;\n",
       "    }\n",
       "</style>\n",
       "<table border=\"1\" class=\"dataframe\">\n",
       "  <thead>\n",
       "    <tr style=\"text-align: right;\">\n",
       "      <th></th>\n",
       "      <th>Exterior2nd</th>\n",
       "      <th>SalePrice</th>\n",
       "    </tr>\n",
       "  </thead>\n",
       "  <tbody>\n",
       "    <tr>\n",
       "      <th>Exterior1st</th>\n",
       "      <td>0.906800</td>\n",
       "      <td>0.38223</td>\n",
       "    </tr>\n",
       "    <tr>\n",
       "      <th>SalePrice</th>\n",
       "      <td>0.371098</td>\n",
       "      <td>1.00000</td>\n",
       "    </tr>\n",
       "  </tbody>\n",
       "</table>\n",
       "</div>"
      ],
      "text/plain": [
       "             Exterior2nd  SalePrice\n",
       "Exterior1st     0.906800    0.38223\n",
       "SalePrice       0.371098    1.00000"
      ]
     },
     "execution_count": 26,
     "metadata": {},
     "output_type": "execute_result"
    }
   ],
   "source": [
    "thresh = 0.6\n",
    "highly_corr_cm = cm.drop(index=['SalePrice'],columns=['SalePrice'])[(cm>thresh)&mask].dropna(axis=0, how='all').dropna(axis=1, how='all')\n",
    "highly_corr_cm = highly_corr_cm.append(cm['SalePrice'][highly_corr_cm.columns])\n",
    "highly_corr_cm['SalePrice'] = cm['SalePrice'][highly_corr_cm.index]\n",
    "highly_corr_cm"
   ]
  },
  {
   "cell_type": "code",
   "execution_count": 27,
   "metadata": {},
   "outputs": [],
   "source": [
    "columns_to_remove = [\"Exterior2nd\"]"
   ]
  },
  {
   "cell_type": "code",
   "execution_count": 28,
   "metadata": {},
   "outputs": [],
   "source": [
    "categorical_df.drop(columns=columns_to_remove, inplace=True)"
   ]
  },
  {
   "cell_type": "code",
   "execution_count": 29,
   "metadata": {},
   "outputs": [
    {
     "data": {
      "text/plain": [
       "<matplotlib.axes._subplots.AxesSubplot at 0x7f9316fe76d8>"
      ]
     },
     "execution_count": 29,
     "metadata": {},
     "output_type": "execute_result"
    },
    {
     "data": {
      "image/png": "[encoded data removed]",
      "text/plain": [
       "<matplotlib.figure.Figure at 0x7f9316dc2630>"
      ]
     },
     "metadata": {},
     "output_type": "display_data"
    }
   ],
   "source": [
    "#saleprice correlation matrix\n",
    "corrmat = categorical_df.corr().abs()\n",
    "k = 6 #number of variables for heatmap\n",
    "cols = corrmat.nlargest(k+1, 'SalePrice')['SalePrice'].index\n",
    "cm = categorical_df[cols].corr().abs()\n",
    "sns.set(rc={'figure.figsize':(9,9)})\n",
    "sns.heatmap(cm, vmax=.8, cbar=True, annot=True, square=True, fmt='.2f', annot_kws={'size': 10}, yticklabels=cols.values, xticklabels=cols.values)"
   ]
  },
  {
   "cell_type": "code",
   "execution_count": 30,
   "metadata": {},
   "outputs": [
    {
     "data": {
      "text/plain": [
       "['Neighborhood',\n",
       " 'GarageFinish',\n",
       " 'Foundation',\n",
       " 'MSSubClass',\n",
       " 'GarageType',\n",
       " 'MasVnrType']"
      ]
     },
     "execution_count": 30,
     "metadata": {},
     "output_type": "execute_result"
    }
   ],
   "source": [
    "selected_categorical_features = cols.drop('SalePrice').tolist()\n",
    "selected_categorical_features"
   ]
  },
  {
   "cell_type": "markdown",
   "metadata": {},
   "source": [
    "### Summarize"
   ]
  },
  {
   "cell_type": "code",
   "execution_count": 31,
   "metadata": {},
   "outputs": [
    {
     "data": {
      "text/plain": [
       "['Neighborhood',\n",
       " 'GarageFinish',\n",
       " 'Foundation',\n",
       " 'MSSubClass',\n",
       " 'GarageType',\n",
       " 'MasVnrType',\n",
       " 'GrLivArea',\n",
       " 'GarageCars',\n",
       " 'TotalBsmtSF',\n",
       " 'BsmtQual',\n",
       " 'FullBath',\n",
       " 'YearBuilt',\n",
       " 'YearRemodAdd',\n",
       " 'FireplaceQu',\n",
       " 'MasVnrArea',\n",
       " 'BsmtFinSF1']"
      ]
     },
     "execution_count": 31,
     "metadata": {},
     "output_type": "execute_result"
    }
   ],
   "source": [
    "features = selected_categorical_features + selected_numerical_features\n",
    "features"
   ]
  },
  {
   "cell_type": "markdown",
   "metadata": {},
   "source": [
    "## Learn model"
   ]
  },
  {
   "cell_type": "code",
   "execution_count": 32,
   "metadata": {},
   "outputs": [],
   "source": [
    "def log_transformation(frame, feature):\n",
    "    new_feature_name = new_log_feature_name(feature)\n",
    "    frame[new_feature_name] = np.log1p(frame[feature].values)\n",
    "\n",
    "def new_quadratic_feature_name(feature):\n",
    "    return feature+'2'\n",
    "\n",
    "def new_log_feature_name(feature):\n",
    "    return feature+'Log'\n",
    "    \n",
    "def quadratic(frame, feature):\n",
    "    new_feature_name = new_quadratic_feature_name(feature)\n",
    "    frame[new_feature_name] = frame[feature]**2\n",
    "    \n",
    "def boolean_transformation(frame, feature, new_feature_name, threshold):\n",
    "    frame[new_feature_name] = frame[feature].apply(lambda x: 1 if x > threshold else 0)\n",
    "    \n",
    "def error(actual, predicted):\n",
    "    actual = np.log(actual)\n",
    "    predicted = np.log(predicted)\n",
    "    return np.sqrt(np.sum(np.square(actual-predicted))/len(actual))\n",
    "\n",
    "def error_mse(actual, predicted):\n",
    "    actual = (actual)\n",
    "    predicted = (predicted)\n",
    "    return np.sqrt(np.sum(np.square(actual-predicted))/len(actual))"
   ]
  },
  {
   "cell_type": "code",
   "execution_count": 33,
   "metadata": {},
   "outputs": [],
   "source": [
    "to_log_transform = ['GrLivArea', 'TotalBsmtSF', 'MasVnrArea', 'BsmtFinSF1']\n",
    "\n",
    "to_pow_transform = ['YearBuilt', 'YearRemodAdd', 'TotalBsmtSF', 'Neighborhood', 'GrLivArea']\n",
    "\n",
    "to_boolean_transform = {\n",
    "    'TotalBsmtSF': {'new_feature_name': 'HasBasement', 'threshold': 0},\n",
    "    'GarageArea':  {'new_feature_name': 'HasGarage', 'threshold': 0},\n",
    "    '2ndFlrSF':    {'new_feature_name': 'Has2ndFloor', 'threshold': 0},\n",
    "    'MasVnrArea':  {'new_feature_name': 'HasMasVnr', 'threshold': 0},\n",
    "    'WoodDeckSF':  {'new_feature_name': 'HasWoodDeck', 'threshold': 0},\n",
    "    'OpenPorchSF': {'new_feature_name': 'HasPorch', 'threshold': 0},\n",
    "    'PoolArea':    {'new_feature_name': 'HasPool', 'threshold': 0},\n",
    "    'YearBuilt':   {'new_feature_name': 'IsNew', 'threshold': 2000},\n",
    "}\n",
    "\n",
    "added_boolean_columns = [\n",
    "    'HasBasement', \n",
    "    'HasGarage', \n",
    "    'Has2ndFloor', \n",
    "    'HasMasVnr', \n",
    "    'HasWoodDeck',\n",
    "    'HasPorch', \n",
    "    'HasPool', \n",
    "    'IsNew']\n",
    "\n",
    "added_quadratic_columns = list(map(new_quadratic_feature_name, to_pow_transform))\n",
    "\n",
    "added_log_columns = list(map(new_log_feature_name, to_log_transform))\n",
    "\n",
    "def transform_before_learn(frame, to_log_transform, to_pow_transform, to_boolean_transform):\n",
    "\n",
    "    for c in to_log_transform:\n",
    "        log_transformation(frame, c)\n",
    "\n",
    "    for c in to_pow_transform:\n",
    "        quadratic(frame, c)\n",
    "\n",
    "    for c in to_boolean_transform.keys():\n",
    "        boolean_transformation(frame, c, to_boolean_transform[c]['new_feature_name'], \n",
    "                               to_boolean_transform[c]['threshold']) \n",
    "\n",
    "\n",
    "transform_before_learn(df_train, to_log_transform, to_pow_transform, to_boolean_transform)"
   ]
  },
  {
   "cell_type": "code",
   "execution_count": 34,
   "metadata": {},
   "outputs": [],
   "source": [
    "features_full_list = features + added_boolean_columns + added_quadratic_columns + added_log_columns"
   ]
  },
  {
   "cell_type": "markdown",
   "metadata": {},
   "source": [
    "## Prepare test data"
   ]
  },
  {
   "cell_type": "code",
   "execution_count": 35,
   "metadata": {},
   "outputs": [],
   "source": [
    "def encode_test_df(frame, dummies):\n",
    "    for feature in dummies.keys():\n",
    "        for cat, o in dummies[feature].items():\n",
    "            if frame[feature].dtype != np.int64:\n",
    "                frame.loc[frame[feature] == cat, feature] = o\n",
    "\n",
    "def prepare_test_df(test_frame):\n",
    "    fill_na(test_frame)\n",
    "    make_transform(test_frame)\n",
    "    encode_test_df(df_test, dummies)\n",
    "    transform_before_learn(test_frame, to_log_transform, to_pow_transform, to_boolean_transform)"
   ]
  },
  {
   "cell_type": "code",
   "execution_count": 36,
   "metadata": {},
   "outputs": [],
   "source": [
    "df_test = pd.read_csv('../input/test.csv')\n",
    "\n",
    "prepare_test_df(df_test)\n",
    "\n",
    "df_test.fillna(0, inplace=True)\n",
    "df_test.replace({'No': 0}, inplace=True)\n",
    "df_test.replace({'SC150': 7}, inplace=True)\n",
    "#df_test.replace({'AsphShn': 7}, inplace=True)"
   ]
  },
  {
   "cell_type": "markdown",
   "metadata": {},
   "source": [
    "## Out liars"
   ]
  },
  {
   "cell_type": "code",
   "execution_count": 37,
   "metadata": {},
   "outputs": [],
   "source": [
    "df_train_cleaned = df_train\n",
    "#df_train_cleaned = df_train.drop(df_train[df_train['Id'] == 1299].index)\n",
    "#df_train_cleaned = df_train.drop(df_train[df_train['Id'] == 524].index)"
   ]
  },
  {
   "cell_type": "markdown",
   "metadata": {},
   "source": [
    "## Regression"
   ]
  },
  {
   "cell_type": "markdown",
   "metadata": {},
   "source": [
    "### Linear"
   ]
  },
  {
   "cell_type": "code",
   "execution_count": 38,
   "metadata": {},
   "outputs": [
    {
     "name": "stdout",
     "output_type": "stream",
     "text": [
      "0.1373458192368534\n",
      "28304.86223213529\n"
     ]
    },
    {
     "data": {
      "text/html": [
       "<div>\n",
       "<style scoped>\n",
       "    .dataframe tbody tr th:only-of-type {\n",
       "        vertical-align: middle;\n",
       "    }\n",
       "\n",
       "    .dataframe tbody tr th {\n",
       "        vertical-align: top;\n",
       "    }\n",
       "\n",
       "    .dataframe thead th {\n",
       "        text-align: right;\n",
       "    }\n",
       "</style>\n",
       "<table border=\"1\" class=\"dataframe\">\n",
       "  <thead>\n",
       "    <tr style=\"text-align: right;\">\n",
       "      <th></th>\n",
       "      <th>Y</th>\n",
       "      <th>Ypred</th>\n",
       "      <th>Id</th>\n",
       "    </tr>\n",
       "  </thead>\n",
       "  <tbody>\n",
       "    <tr>\n",
       "      <th>0</th>\n",
       "      <td>208500</td>\n",
       "      <td>205000.0</td>\n",
       "      <td>1</td>\n",
       "    </tr>\n",
       "    <tr>\n",
       "      <th>1</th>\n",
       "      <td>181500</td>\n",
       "      <td>192000.0</td>\n",
       "      <td>2</td>\n",
       "    </tr>\n",
       "    <tr>\n",
       "      <th>2</th>\n",
       "      <td>223500</td>\n",
       "      <td>218000.0</td>\n",
       "      <td>3</td>\n",
       "    </tr>\n",
       "    <tr>\n",
       "      <th>3</th>\n",
       "      <td>140000</td>\n",
       "      <td>185000.0</td>\n",
       "      <td>4</td>\n",
       "    </tr>\n",
       "    <tr>\n",
       "      <th>4</th>\n",
       "      <td>250000</td>\n",
       "      <td>297000.0</td>\n",
       "      <td>5</td>\n",
       "    </tr>\n",
       "    <tr>\n",
       "      <th>5</th>\n",
       "      <td>143000</td>\n",
       "      <td>158000.0</td>\n",
       "      <td>6</td>\n",
       "    </tr>\n",
       "    <tr>\n",
       "      <th>6</th>\n",
       "      <td>307000</td>\n",
       "      <td>288000.0</td>\n",
       "      <td>7</td>\n",
       "    </tr>\n",
       "    <tr>\n",
       "      <th>7</th>\n",
       "      <td>200000</td>\n",
       "      <td>231000.0</td>\n",
       "      <td>8</td>\n",
       "    </tr>\n",
       "    <tr>\n",
       "      <th>8</th>\n",
       "      <td>129900</td>\n",
       "      <td>135000.0</td>\n",
       "      <td>9</td>\n",
       "    </tr>\n",
       "    <tr>\n",
       "      <th>9</th>\n",
       "      <td>118000</td>\n",
       "      <td>118000.0</td>\n",
       "      <td>10</td>\n",
       "    </tr>\n",
       "  </tbody>\n",
       "</table>\n",
       "</div>"
      ],
      "text/plain": [
       "        Y     Ypred  Id\n",
       "0  208500  205000.0   1\n",
       "1  181500  192000.0   2\n",
       "2  223500  218000.0   3\n",
       "3  140000  185000.0   4\n",
       "4  250000  297000.0   5\n",
       "5  143000  158000.0   6\n",
       "6  307000  288000.0   7\n",
       "7  200000  231000.0   8\n",
       "8  129900  135000.0   9\n",
       "9  118000  118000.0  10"
      ]
     },
     "execution_count": 38,
     "metadata": {},
     "output_type": "execute_result"
    }
   ],
   "source": [
    "X = df_train_cleaned[features_full_list]\n",
    "Y = df_train_cleaned['SalePrice'].values\n",
    "\n",
    "full_X = df_train[features_full_list]\n",
    "full_Y = df_train['SalePrice'].values\n",
    "\n",
    "linear = linear_model.LinearRegression()\n",
    "linear.fit(X, np.log1p(Y))\n",
    "\n",
    "Ypred_linear = np.expm1(linear.predict(full_X))\n",
    "print(error(full_Y, Ypred_linear))\n",
    "print(error_mse(full_Y, Ypred_linear))\n",
    "\n",
    "tmp_df = pd.DataFrame()\n",
    "tmp_df['Y'] = df_train['SalePrice']\n",
    "tmp_df['Ypred'] = np.around(Ypred_linear, decimals=-3)\n",
    "tmp_df['Id'] = df_train['Id']\n",
    "tmp_df.head(10)"
   ]
  },
  {
   "cell_type": "markdown",
   "metadata": {},
   "source": [
    "#### submition"
   ]
  },
  {
   "cell_type": "code",
   "execution_count": 39,
   "metadata": {},
   "outputs": [],
   "source": [
    "full_test_X = df_test[features_full_list]\n",
    "\n",
    "test_pred = np.exp(linear.predict(full_test_X))\n",
    "\n",
    "submition = pd.DataFrame()\n",
    "submition['Id'] = df_test['Id']\n",
    "submition['SalePrice'] = test_pred\n",
    "submition.to_csv(\"linear_submition.csv\", index=False)"
   ]
  },
  {
   "cell_type": "markdown",
   "metadata": {},
   "source": [
    "### Lasso"
   ]
  },
  {
   "cell_type": "code",
   "execution_count": 40,
   "metadata": {},
   "outputs": [
    {
     "name": "stdout",
     "output_type": "stream",
     "text": [
      "0.2264694231195981\n",
      "28304.86223213529\n"
     ]
    },
    {
     "data": {
      "text/html": [
       "<div>\n",
       "<style scoped>\n",
       "    .dataframe tbody tr th:only-of-type {\n",
       "        vertical-align: middle;\n",
       "    }\n",
       "\n",
       "    .dataframe tbody tr th {\n",
       "        vertical-align: top;\n",
       "    }\n",
       "\n",
       "    .dataframe thead th {\n",
       "        text-align: right;\n",
       "    }\n",
       "</style>\n",
       "<table border=\"1\" class=\"dataframe\">\n",
       "  <thead>\n",
       "    <tr style=\"text-align: right;\">\n",
       "      <th></th>\n",
       "      <th>Y</th>\n",
       "      <th>Ypred</th>\n",
       "      <th>Id</th>\n",
       "    </tr>\n",
       "  </thead>\n",
       "  <tbody>\n",
       "    <tr>\n",
       "      <th>0</th>\n",
       "      <td>208500</td>\n",
       "      <td>217000.0</td>\n",
       "      <td>1</td>\n",
       "    </tr>\n",
       "    <tr>\n",
       "      <th>1</th>\n",
       "      <td>181500</td>\n",
       "      <td>153000.0</td>\n",
       "      <td>2</td>\n",
       "    </tr>\n",
       "    <tr>\n",
       "      <th>2</th>\n",
       "      <td>223500</td>\n",
       "      <td>220000.0</td>\n",
       "      <td>3</td>\n",
       "    </tr>\n",
       "    <tr>\n",
       "      <th>3</th>\n",
       "      <td>140000</td>\n",
       "      <td>128000.0</td>\n",
       "      <td>4</td>\n",
       "    </tr>\n",
       "    <tr>\n",
       "      <th>4</th>\n",
       "      <td>250000</td>\n",
       "      <td>252000.0</td>\n",
       "      <td>5</td>\n",
       "    </tr>\n",
       "    <tr>\n",
       "      <th>5</th>\n",
       "      <td>143000</td>\n",
       "      <td>182000.0</td>\n",
       "      <td>6</td>\n",
       "    </tr>\n",
       "    <tr>\n",
       "      <th>6</th>\n",
       "      <td>307000</td>\n",
       "      <td>221000.0</td>\n",
       "      <td>7</td>\n",
       "    </tr>\n",
       "    <tr>\n",
       "      <th>7</th>\n",
       "      <td>200000</td>\n",
       "      <td>191000.0</td>\n",
       "      <td>8</td>\n",
       "    </tr>\n",
       "    <tr>\n",
       "      <th>8</th>\n",
       "      <td>129900</td>\n",
       "      <td>129000.0</td>\n",
       "      <td>9</td>\n",
       "    </tr>\n",
       "    <tr>\n",
       "      <th>9</th>\n",
       "      <td>118000</td>\n",
       "      <td>112000.0</td>\n",
       "      <td>10</td>\n",
       "    </tr>\n",
       "  </tbody>\n",
       "</table>\n",
       "</div>"
      ],
      "text/plain": [
       "        Y     Ypred  Id\n",
       "0  208500  217000.0   1\n",
       "1  181500  153000.0   2\n",
       "2  223500  220000.0   3\n",
       "3  140000  128000.0   4\n",
       "4  250000  252000.0   5\n",
       "5  143000  182000.0   6\n",
       "6  307000  221000.0   7\n",
       "7  200000  191000.0   8\n",
       "8  129900  129000.0   9\n",
       "9  118000  112000.0  10"
      ]
     },
     "execution_count": 40,
     "metadata": {},
     "output_type": "execute_result"
    }
   ],
   "source": [
    "X = df_train_cleaned[features_full_list]\n",
    "Y = df_train_cleaned['SalePrice'].values\n",
    "\n",
    "full_X = df_train[features_full_list]\n",
    "full_Y = df_train['SalePrice'].values\n",
    "\n",
    "lasso = linear_model.LassoCV(max_iter=10000)\n",
    "lasso.fit(X, np.log1p(Y))\n",
    "\n",
    "Ypred_lasso = np.expm1(lasso.predict(full_X))\n",
    "print(error(full_Y, Ypred_lasso))\n",
    "print(error_mse(full_Y, Ypred_linear))\n",
    "\n",
    "tmp_df = pd.DataFrame()\n",
    "tmp_df['Y'] = df_train['SalePrice']\n",
    "tmp_df['Ypred'] = np.around(Ypred_lasso, decimals=-3)\n",
    "tmp_df['Id'] = df_train['Id']\n",
    "tmp_df.head(10)"
   ]
  },
  {
   "cell_type": "markdown",
   "metadata": {},
   "source": [
    "#### submition"
   ]
  },
  {
   "cell_type": "code",
   "execution_count": 41,
   "metadata": {},
   "outputs": [],
   "source": [
    "full_test_X = df_test[features_full_list]\n",
    "\n",
    "test_pred = np.exp(lasso.predict(full_test_X))\n",
    "\n",
    "submition = pd.DataFrame()\n",
    "submition['Id'] = df_test['Id']\n",
    "submition['SalePrice'] = test_pred\n",
    "submition.to_csv(\"lasso_submition.csv\", index=False)"
   ]
  },
  {
   "cell_type": "markdown",
   "metadata": {},
   "source": [
    "### Lasso Lars"
   ]
  },
  {
   "cell_type": "code",
   "execution_count": 42,
   "metadata": {},
   "outputs": [
    {
     "name": "stdout",
     "output_type": "stream",
     "text": [
      "0.2264694231195981\n",
      "111316.24429861434\n"
     ]
    },
    {
     "data": {
      "text/html": [
       "<div>\n",
       "<style scoped>\n",
       "    .dataframe tbody tr th:only-of-type {\n",
       "        vertical-align: middle;\n",
       "    }\n",
       "\n",
       "    .dataframe tbody tr th {\n",
       "        vertical-align: top;\n",
       "    }\n",
       "\n",
       "    .dataframe thead th {\n",
       "        text-align: right;\n",
       "    }\n",
       "</style>\n",
       "<table border=\"1\" class=\"dataframe\">\n",
       "  <thead>\n",
       "    <tr style=\"text-align: right;\">\n",
       "      <th></th>\n",
       "      <th>Y</th>\n",
       "      <th>Ypred</th>\n",
       "      <th>Id</th>\n",
       "    </tr>\n",
       "  </thead>\n",
       "  <tbody>\n",
       "    <tr>\n",
       "      <th>0</th>\n",
       "      <td>208500</td>\n",
       "      <td>205000.0</td>\n",
       "      <td>1</td>\n",
       "    </tr>\n",
       "    <tr>\n",
       "      <th>1</th>\n",
       "      <td>181500</td>\n",
       "      <td>194000.0</td>\n",
       "      <td>2</td>\n",
       "    </tr>\n",
       "    <tr>\n",
       "      <th>2</th>\n",
       "      <td>223500</td>\n",
       "      <td>219000.0</td>\n",
       "      <td>3</td>\n",
       "    </tr>\n",
       "    <tr>\n",
       "      <th>3</th>\n",
       "      <td>140000</td>\n",
       "      <td>190000.0</td>\n",
       "      <td>4</td>\n",
       "    </tr>\n",
       "    <tr>\n",
       "      <th>4</th>\n",
       "      <td>250000</td>\n",
       "      <td>298000.0</td>\n",
       "      <td>5</td>\n",
       "    </tr>\n",
       "    <tr>\n",
       "      <th>5</th>\n",
       "      <td>143000</td>\n",
       "      <td>159000.0</td>\n",
       "      <td>6</td>\n",
       "    </tr>\n",
       "    <tr>\n",
       "      <th>6</th>\n",
       "      <td>307000</td>\n",
       "      <td>286000.0</td>\n",
       "      <td>7</td>\n",
       "    </tr>\n",
       "    <tr>\n",
       "      <th>7</th>\n",
       "      <td>200000</td>\n",
       "      <td>231000.0</td>\n",
       "      <td>8</td>\n",
       "    </tr>\n",
       "    <tr>\n",
       "      <th>8</th>\n",
       "      <td>129900</td>\n",
       "      <td>134000.0</td>\n",
       "      <td>9</td>\n",
       "    </tr>\n",
       "    <tr>\n",
       "      <th>9</th>\n",
       "      <td>118000</td>\n",
       "      <td>118000.0</td>\n",
       "      <td>10</td>\n",
       "    </tr>\n",
       "  </tbody>\n",
       "</table>\n",
       "</div>"
      ],
      "text/plain": [
       "        Y     Ypred  Id\n",
       "0  208500  205000.0   1\n",
       "1  181500  194000.0   2\n",
       "2  223500  219000.0   3\n",
       "3  140000  190000.0   4\n",
       "4  250000  298000.0   5\n",
       "5  143000  159000.0   6\n",
       "6  307000  286000.0   7\n",
       "7  200000  231000.0   8\n",
       "8  129900  134000.0   9\n",
       "9  118000  118000.0  10"
      ]
     },
     "execution_count": 42,
     "metadata": {},
     "output_type": "execute_result"
    }
   ],
   "source": [
    "X = df_train_cleaned[features_full_list]\n",
    "Y = df_train_cleaned['SalePrice'].values\n",
    "\n",
    "full_X = df_train[features_full_list]\n",
    "full_Y = df_train['SalePrice'].values\n",
    "\n",
    "lasso_lars = linear_model.LassoLarsCV(max_iter=10000)\n",
    "lasso_lars.fit(X, np.log1p(Y))\n",
    "\n",
    "Ypred_lasso_lars = np.expm1(lasso_lars.predict(full_X))\n",
    "print(error(full_Y, Ypred_lasso))\n",
    "print(error_mse(full_Y, Ypred_lasso))\n",
    "\n",
    "tmp_df = pd.DataFrame()\n",
    "tmp_df['Y'] = df_train['SalePrice']\n",
    "tmp_df['Ypred'] = np.around(Ypred_lasso_lars, decimals=-3)\n",
    "tmp_df['Id'] = df_train['Id']\n",
    "tmp_df.head(10)"
   ]
  },
  {
   "cell_type": "markdown",
   "metadata": {},
   "source": [
    "#### submition"
   ]
  },
  {
   "cell_type": "code",
   "execution_count": 43,
   "metadata": {},
   "outputs": [],
   "source": [
    "full_test_X = df_test[features_full_list]\n",
    "\n",
    "test_pred = np.exp(lasso_lars.predict(full_test_X))\n",
    "\n",
    "submition = pd.DataFrame()\n",
    "submition['Id'] = df_test['Id']\n",
    "submition['SalePrice'] = test_pred\n",
    "submition.to_csv(\"lasso_lars_submition.csv\", index=False)"
   ]
  },
  {
   "cell_type": "markdown",
   "metadata": {},
   "source": [
    "### RidgeCV"
   ]
  },
  {
   "cell_type": "code",
   "execution_count": 44,
   "metadata": {},
   "outputs": [
    {
     "name": "stdout",
     "output_type": "stream",
     "text": [
      "0.13788810184088088\n",
      "28792.20620615637\n"
     ]
    },
    {
     "data": {
      "text/html": [
       "<div>\n",
       "<style scoped>\n",
       "    .dataframe tbody tr th:only-of-type {\n",
       "        vertical-align: middle;\n",
       "    }\n",
       "\n",
       "    .dataframe tbody tr th {\n",
       "        vertical-align: top;\n",
       "    }\n",
       "\n",
       "    .dataframe thead th {\n",
       "        text-align: right;\n",
       "    }\n",
       "</style>\n",
       "<table border=\"1\" class=\"dataframe\">\n",
       "  <thead>\n",
       "    <tr style=\"text-align: right;\">\n",
       "      <th></th>\n",
       "      <th>Y</th>\n",
       "      <th>Ypred</th>\n",
       "      <th>Id</th>\n",
       "    </tr>\n",
       "  </thead>\n",
       "  <tbody>\n",
       "    <tr>\n",
       "      <th>0</th>\n",
       "      <td>208500</td>\n",
       "      <td>204000.0</td>\n",
       "      <td>1</td>\n",
       "    </tr>\n",
       "    <tr>\n",
       "      <th>1</th>\n",
       "      <td>181500</td>\n",
       "      <td>194000.0</td>\n",
       "      <td>2</td>\n",
       "    </tr>\n",
       "    <tr>\n",
       "      <th>2</th>\n",
       "      <td>223500</td>\n",
       "      <td>219000.0</td>\n",
       "      <td>3</td>\n",
       "    </tr>\n",
       "    <tr>\n",
       "      <th>3</th>\n",
       "      <td>140000</td>\n",
       "      <td>187000.0</td>\n",
       "      <td>4</td>\n",
       "    </tr>\n",
       "    <tr>\n",
       "      <th>4</th>\n",
       "      <td>250000</td>\n",
       "      <td>298000.0</td>\n",
       "      <td>5</td>\n",
       "    </tr>\n",
       "    <tr>\n",
       "      <th>5</th>\n",
       "      <td>143000</td>\n",
       "      <td>158000.0</td>\n",
       "      <td>6</td>\n",
       "    </tr>\n",
       "    <tr>\n",
       "      <th>6</th>\n",
       "      <td>307000</td>\n",
       "      <td>286000.0</td>\n",
       "      <td>7</td>\n",
       "    </tr>\n",
       "    <tr>\n",
       "      <th>7</th>\n",
       "      <td>200000</td>\n",
       "      <td>231000.0</td>\n",
       "      <td>8</td>\n",
       "    </tr>\n",
       "    <tr>\n",
       "      <th>8</th>\n",
       "      <td>129900</td>\n",
       "      <td>135000.0</td>\n",
       "      <td>9</td>\n",
       "    </tr>\n",
       "    <tr>\n",
       "      <th>9</th>\n",
       "      <td>118000</td>\n",
       "      <td>118000.0</td>\n",
       "      <td>10</td>\n",
       "    </tr>\n",
       "  </tbody>\n",
       "</table>\n",
       "</div>"
      ],
      "text/plain": [
       "        Y     Ypred  Id\n",
       "0  208500  204000.0   1\n",
       "1  181500  194000.0   2\n",
       "2  223500  219000.0   3\n",
       "3  140000  187000.0   4\n",
       "4  250000  298000.0   5\n",
       "5  143000  158000.0   6\n",
       "6  307000  286000.0   7\n",
       "7  200000  231000.0   8\n",
       "8  129900  135000.0   9\n",
       "9  118000  118000.0  10"
      ]
     },
     "execution_count": 44,
     "metadata": {},
     "output_type": "execute_result"
    }
   ],
   "source": [
    "X = df_train_cleaned[features_full_list]\n",
    "Y = df_train_cleaned['SalePrice'].values\n",
    "\n",
    "full_X = df_train[features_full_list]\n",
    "full_Y = df_train['SalePrice'].values\n",
    "\n",
    "ridge = linear_model.RidgeCV(cv=20)\n",
    "ridge.fit(X, np.log1p(Y))\n",
    "Ypred_ridge = np.expm1(ridge.predict(full_X))\n",
    "print(error(full_Y,Ypred_ridge))\n",
    "print(error_mse(full_Y, Ypred_ridge))\n",
    "\n",
    "tmp_df = pd.DataFrame()\n",
    "tmp_df['Y'] = df_train['SalePrice']\n",
    "tmp_df['Ypred'] = np.around(Ypred_ridge, decimals=-3)\n",
    "tmp_df['Id'] = df_train['Id']\n",
    "tmp_df.head(10)"
   ]
  },
  {
   "cell_type": "markdown",
   "metadata": {},
   "source": [
    "#### submition"
   ]
  },
  {
   "cell_type": "code",
   "execution_count": 45,
   "metadata": {},
   "outputs": [],
   "source": [
    "full_test_X = df_test[features_full_list]\n",
    "\n",
    "test_pred = np.exp(ridge.predict(full_test_X))\n",
    "\n",
    "submition = pd.DataFrame()\n",
    "submition['Id'] = df_test['Id']\n",
    "submition['SalePrice'] = test_pred\n",
    "submition.to_csv(\"ridge_submition.csv\", index=False)"
   ]
  },
  {
   "cell_type": "markdown",
   "metadata": {},
   "source": [
    "### ElasticNetCV"
   ]
  },
  {
   "cell_type": "code",
   "execution_count": 46,
   "metadata": {},
   "outputs": [
    {
     "name": "stdout",
     "output_type": "stream",
     "text": [
      "0.22646942329248135\n",
      "111316.2476524487\n"
     ]
    },
    {
     "data": {
      "text/html": [
       "<div>\n",
       "<style scoped>\n",
       "    .dataframe tbody tr th:only-of-type {\n",
       "        vertical-align: middle;\n",
       "    }\n",
       "\n",
       "    .dataframe tbody tr th {\n",
       "        vertical-align: top;\n",
       "    }\n",
       "\n",
       "    .dataframe thead th {\n",
       "        text-align: right;\n",
       "    }\n",
       "</style>\n",
       "<table border=\"1\" class=\"dataframe\">\n",
       "  <thead>\n",
       "    <tr style=\"text-align: right;\">\n",
       "      <th></th>\n",
       "      <th>Y</th>\n",
       "      <th>Ypred</th>\n",
       "      <th>Id</th>\n",
       "    </tr>\n",
       "  </thead>\n",
       "  <tbody>\n",
       "    <tr>\n",
       "      <th>0</th>\n",
       "      <td>208500</td>\n",
       "      <td>217000.0</td>\n",
       "      <td>1</td>\n",
       "    </tr>\n",
       "    <tr>\n",
       "      <th>1</th>\n",
       "      <td>181500</td>\n",
       "      <td>153000.0</td>\n",
       "      <td>2</td>\n",
       "    </tr>\n",
       "    <tr>\n",
       "      <th>2</th>\n",
       "      <td>223500</td>\n",
       "      <td>220000.0</td>\n",
       "      <td>3</td>\n",
       "    </tr>\n",
       "    <tr>\n",
       "      <th>3</th>\n",
       "      <td>140000</td>\n",
       "      <td>128000.0</td>\n",
       "      <td>4</td>\n",
       "    </tr>\n",
       "    <tr>\n",
       "      <th>4</th>\n",
       "      <td>250000</td>\n",
       "      <td>252000.0</td>\n",
       "      <td>5</td>\n",
       "    </tr>\n",
       "    <tr>\n",
       "      <th>5</th>\n",
       "      <td>143000</td>\n",
       "      <td>182000.0</td>\n",
       "      <td>6</td>\n",
       "    </tr>\n",
       "    <tr>\n",
       "      <th>6</th>\n",
       "      <td>307000</td>\n",
       "      <td>221000.0</td>\n",
       "      <td>7</td>\n",
       "    </tr>\n",
       "    <tr>\n",
       "      <th>7</th>\n",
       "      <td>200000</td>\n",
       "      <td>191000.0</td>\n",
       "      <td>8</td>\n",
       "    </tr>\n",
       "    <tr>\n",
       "      <th>8</th>\n",
       "      <td>129900</td>\n",
       "      <td>129000.0</td>\n",
       "      <td>9</td>\n",
       "    </tr>\n",
       "    <tr>\n",
       "      <th>9</th>\n",
       "      <td>118000</td>\n",
       "      <td>112000.0</td>\n",
       "      <td>10</td>\n",
       "    </tr>\n",
       "  </tbody>\n",
       "</table>\n",
       "</div>"
      ],
      "text/plain": [
       "        Y     Ypred  Id\n",
       "0  208500  217000.0   1\n",
       "1  181500  153000.0   2\n",
       "2  223500  220000.0   3\n",
       "3  140000  128000.0   4\n",
       "4  250000  252000.0   5\n",
       "5  143000  182000.0   6\n",
       "6  307000  221000.0   7\n",
       "7  200000  191000.0   8\n",
       "8  129900  129000.0   9\n",
       "9  118000  112000.0  10"
      ]
     },
     "execution_count": 46,
     "metadata": {},
     "output_type": "execute_result"
    }
   ],
   "source": [
    "X = df_train_cleaned[features_full_list]\n",
    "Y = df_train_cleaned['SalePrice'].values\n",
    "\n",
    "full_X = df_train[features_full_list]\n",
    "full_Y = df_train['SalePrice'].values\n",
    "\n",
    "elasticNet = linear_model.ElasticNetCV(cv=10, random_state=42)\n",
    "elasticNet.fit(X, np.log1p(Y))\n",
    "Ypred_elasticNet = np.expm1(elasticNet.predict(full_X))\n",
    "print(error(full_Y,Ypred_elasticNet))\n",
    "print(error_mse(full_Y, Ypred_elasticNet))\n",
    "\n",
    "tmp_df = pd.DataFrame()\n",
    "tmp_df['Y'] = df_train['SalePrice']\n",
    "tmp_df['Ypred'] = np.around(Ypred_elasticNet, decimals=-3)\n",
    "tmp_df['Id'] = df_train['Id']\n",
    "tmp_df.head(10)"
   ]
  },
  {
   "cell_type": "markdown",
   "metadata": {},
   "source": [
    "#### submition"
   ]
  },
  {
   "cell_type": "code",
   "execution_count": 47,
   "metadata": {},
   "outputs": [],
   "source": [
    "full_test_X = df_test[features_full_list]\n",
    "\n",
    "test_pred = np.exp(elasticNet.predict(full_test_X))\n",
    "\n",
    "submition = pd.DataFrame()\n",
    "submition['Id'] = df_test['Id']\n",
    "submition['SalePrice'] = test_pred\n",
    "submition.to_csv(\"elasticNet_submition.csv\", index=False)"
   ]
  },
  {
   "cell_type": "markdown",
   "metadata": {},
   "source": [
    "### Xgboost"
   ]
  },
  {
   "cell_type": "code",
   "execution_count": 48,
   "metadata": {},
   "outputs": [],
   "source": [
    "import xgboost as xgb"
   ]
  },
  {
   "cell_type": "code",
   "execution_count": 49,
   "metadata": {},
   "outputs": [],
   "source": [
    "X = df_train_cleaned[features_full_list]\n",
    "Y = df_train_cleaned['SalePrice'].values\n",
    "\n",
    "full_X = df_train[features_full_list]\n",
    "full_Y = df_train['SalePrice'].values"
   ]
  },
  {
   "cell_type": "code",
   "execution_count": 50,
   "metadata": {},
   "outputs": [],
   "source": [
    "dtrain = xgb.DMatrix(X, label = np.log(Y))\n",
    "\n",
    "params = {\"max_depth\":2, \"eta\":0.1}\n",
    "model = xgb.cv(params, dtrain,  num_boost_round=500, early_stopping_rounds=100)"
   ]
  },
  {
   "cell_type": "code",
   "execution_count": 51,
   "metadata": {},
   "outputs": [
    {
     "data": {
      "text/plain": [
       "<matplotlib.axes._subplots.AxesSubplot at 0x7f9314e84b00>"
      ]
     },
     "execution_count": 51,
     "metadata": {},
     "output_type": "execute_result"
    },
    {
     "data": {
      "image/png": "[encoded data removed]",
      "text/plain": [
       "<matplotlib.figure.Figure at 0x7f9314e843c8>"
      ]
     },
     "metadata": {},
     "output_type": "display_data"
    }
   ],
   "source": [
    "model.loc[30:,[\"test-rmse-mean\", \"train-rmse-mean\"]].plot()"
   ]
  },
  {
   "cell_type": "code",
   "execution_count": 52,
   "metadata": {},
   "outputs": [],
   "source": [
    "X_tr, X_val, y_tr, y_val = train_test_split(X, np.log(Y), random_state = 42, test_size=0.20)\n",
    "\n",
    "eval_set = [(X_val, y_val)]"
   ]
  },
  {
   "cell_type": "code",
   "execution_count": 53,
   "metadata": {},
   "outputs": [
    {
     "data": {
      "text/plain": [
       "XGBRegressor(base_score=0.5, booster='gbtree', colsample_bylevel=1,\n",
       "       colsample_bytree=1, gamma=0, learning_rate=0.1, max_delta_step=0,\n",
       "       max_depth=2, min_child_weight=1, missing=None, n_estimators=250,\n",
       "       n_jobs=1, nthread=None, objective='reg:linear', random_state=0,\n",
       "       reg_alpha=0, reg_lambda=1, scale_pos_weight=1, seed=None,\n",
       "       silent=True, subsample=1)"
      ]
     },
     "execution_count": 53,
     "metadata": {},
     "output_type": "execute_result"
    }
   ],
   "source": [
    "model_xgb = xgb.XGBRegressor(n_estimators=250, max_depth=2, learning_rate=0.1)\n",
    "#model_xgb.fit(X_tr, y_tr, eval_metric=\"rmse\", early_stopping_rounds=500, eval_set=eval_set, verbose=True)\n",
    "model_xgb.fit(X, np.log1p(Y))"
   ]
  },
  {
   "cell_type": "code",
   "execution_count": 54,
   "metadata": {},
   "outputs": [
    {
     "name": "stdout",
     "output_type": "stream",
     "text": [
      "0.1077932161071872\n",
      "20060.909286597336\n"
     ]
    }
   ],
   "source": [
    "xgb_preds = np.expm1(model_xgb.predict(full_X))\n",
    "print(error(full_Y, xgb_preds))\n",
    "print(error_mse(full_Y, xgb_preds))"
   ]
  },
  {
   "cell_type": "code",
   "execution_count": 55,
   "metadata": {},
   "outputs": [
    {
     "data": {
      "text/html": [
       "<div>\n",
       "<style scoped>\n",
       "    .dataframe tbody tr th:only-of-type {\n",
       "        vertical-align: middle;\n",
       "    }\n",
       "\n",
       "    .dataframe tbody tr th {\n",
       "        vertical-align: top;\n",
       "    }\n",
       "\n",
       "    .dataframe thead th {\n",
       "        text-align: right;\n",
       "    }\n",
       "</style>\n",
       "<table border=\"1\" class=\"dataframe\">\n",
       "  <thead>\n",
       "    <tr style=\"text-align: right;\">\n",
       "      <th></th>\n",
       "      <th>Y</th>\n",
       "      <th>Ypred</th>\n",
       "      <th>Id</th>\n",
       "    </tr>\n",
       "  </thead>\n",
       "  <tbody>\n",
       "    <tr>\n",
       "      <th>0</th>\n",
       "      <td>208500</td>\n",
       "      <td>196929.0</td>\n",
       "      <td>1</td>\n",
       "    </tr>\n",
       "    <tr>\n",
       "      <th>1</th>\n",
       "      <td>181500</td>\n",
       "      <td>184521.0</td>\n",
       "      <td>2</td>\n",
       "    </tr>\n",
       "    <tr>\n",
       "      <th>2</th>\n",
       "      <td>223500</td>\n",
       "      <td>204231.0</td>\n",
       "      <td>3</td>\n",
       "    </tr>\n",
       "    <tr>\n",
       "      <th>3</th>\n",
       "      <td>140000</td>\n",
       "      <td>174783.0</td>\n",
       "      <td>4</td>\n",
       "    </tr>\n",
       "    <tr>\n",
       "      <th>4</th>\n",
       "      <td>250000</td>\n",
       "      <td>300616.0</td>\n",
       "      <td>5</td>\n",
       "    </tr>\n",
       "    <tr>\n",
       "      <th>5</th>\n",
       "      <td>143000</td>\n",
       "      <td>154360.0</td>\n",
       "      <td>6</td>\n",
       "    </tr>\n",
       "    <tr>\n",
       "      <th>6</th>\n",
       "      <td>307000</td>\n",
       "      <td>300792.0</td>\n",
       "      <td>7</td>\n",
       "    </tr>\n",
       "    <tr>\n",
       "      <th>7</th>\n",
       "      <td>200000</td>\n",
       "      <td>213564.0</td>\n",
       "      <td>8</td>\n",
       "    </tr>\n",
       "    <tr>\n",
       "      <th>8</th>\n",
       "      <td>129900</td>\n",
       "      <td>141094.0</td>\n",
       "      <td>9</td>\n",
       "    </tr>\n",
       "    <tr>\n",
       "      <th>9</th>\n",
       "      <td>118000</td>\n",
       "      <td>121129.0</td>\n",
       "      <td>10</td>\n",
       "    </tr>\n",
       "  </tbody>\n",
       "</table>\n",
       "</div>"
      ],
      "text/plain": [
       "        Y     Ypred  Id\n",
       "0  208500  196929.0   1\n",
       "1  181500  184521.0   2\n",
       "2  223500  204231.0   3\n",
       "3  140000  174783.0   4\n",
       "4  250000  300616.0   5\n",
       "5  143000  154360.0   6\n",
       "6  307000  300792.0   7\n",
       "7  200000  213564.0   8\n",
       "8  129900  141094.0   9\n",
       "9  118000  121129.0  10"
      ]
     },
     "execution_count": 55,
     "metadata": {},
     "output_type": "execute_result"
    }
   ],
   "source": [
    "tmp_df = pd.DataFrame()\n",
    "tmp_df['Y'] = df_train['SalePrice']\n",
    "tmp_df['Ypred'] = np.around(xgb_preds)\n",
    "tmp_df['Id'] = df_train['Id']\n",
    "tmp_df.head(10)"
   ]
  },
  {
   "cell_type": "markdown",
   "metadata": {},
   "source": [
    "#### submition"
   ]
  },
  {
   "cell_type": "code",
   "execution_count": 56,
   "metadata": {},
   "outputs": [],
   "source": [
    "full_test_X = df_test[features_full_list]\n",
    "\n",
    "test_pred = np.expm1(model_xgb.predict(full_test_X))\n",
    "\n",
    "submition = pd.DataFrame()\n",
    "submition['Id'] = df_test['Id']\n",
    "submition['SalePrice'] = test_pred\n",
    "submition.to_csv(\"xgb_submition.csv\", index=False)"
   ]
  },
  {
   "cell_type": "markdown",
   "metadata": {},
   "source": [
    "## Compare"
   ]
  },
  {
   "cell_type": "code",
   "execution_count": 57,
   "metadata": {},
   "outputs": [
    {
     "data": {
      "text/plain": [
       "<matplotlib.axes._subplots.AxesSubplot at 0x7f9314ef5dd8>"
      ]
     },
     "execution_count": 57,
     "metadata": {},
     "output_type": "execute_result"
    },
    {
     "data": {
      "image/png": "[encoded data removed]",
      "text/plain": [
       "<matplotlib.figure.Figure at 0x7f9316c4aba8>"
      ]
     },
     "metadata": {},
     "output_type": "display_data"
    }
   ],
   "source": [
    "predictions = pd.DataFrame({\"xgb\":xgb_preds, \"linear\":Ypred_linear})\n",
    "predictions.plot(x = \"xgb\", y = \"linear\", kind = \"scatter\")"
   ]
  },
  {
   "cell_type": "markdown",
   "metadata": {},
   "source": [
    "## MLP"
   ]
  },
  {
   "cell_type": "code",
   "execution_count": 58,
   "metadata": {},
   "outputs": [
    {
     "name": "stderr",
     "output_type": "stream",
     "text": [
      "Using TensorFlow backend.\n"
     ]
    }
   ],
   "source": [
    "import tensorflow as tf\n",
    "from keras.layers import Dense\n",
    "from keras.models import Sequential\n",
    "from keras.regularizers import l1\n",
    "from keras.callbacks import EarlyStopping\n",
    "from keras.callbacks import ModelCheckpoint \n",
    "from keras.callbacks import LearningRateScheduler\n",
    "from keras import optimizers\n",
    "from sklearn.preprocessing import StandardScaler\n",
    "from keras import backend as K\n",
    "from keras import losses"
   ]
  },
  {
   "cell_type": "code",
   "execution_count": 59,
   "metadata": {},
   "outputs": [],
   "source": [
    "tf.logging.set_verbosity(tf.logging.ERROR)\n",
    "tf.set_random_seed(42)\n",
    "np.random.seed(42)"
   ]
  },
  {
   "cell_type": "code",
   "execution_count": 60,
   "metadata": {},
   "outputs": [],
   "source": [
    "mlp_feed = df_train[features]"
   ]
  },
  {
   "cell_type": "code",
   "execution_count": 61,
   "metadata": {},
   "outputs": [
    {
     "data": {
      "text/plain": [
       "StandardScaler(copy=True, with_mean=True, with_std=True)"
      ]
     },
     "execution_count": 61,
     "metadata": {},
     "output_type": "execute_result"
    }
   ],
   "source": [
    "scaler = StandardScaler()\n",
    "scaler.fit(mlp_feed)"
   ]
  },
  {
   "cell_type": "code",
   "execution_count": 62,
   "metadata": {},
   "outputs": [],
   "source": [
    "X_train = scaler.transform(mlp_feed)"
   ]
  },
  {
   "cell_type": "code",
   "execution_count": 63,
   "metadata": {},
   "outputs": [],
   "source": [
    "X_tr, X_val, y_tr, y_val = train_test_split(X_train, np.log(Y), random_state = 3, test_size=0.25)"
   ]
  },
  {
   "cell_type": "code",
   "execution_count": 64,
   "metadata": {},
   "outputs": [],
   "source": [
    "min_treshold = 0.01\n",
    "def learning_rate_scheduler(epoch, lr):\n",
    "    new_rate = lr/pow(epoch+1, 1/10)\n",
    "    if new_rate < min_treshold:\n",
    "        return min_treshold\n",
    "    else:\n",
    "        return new_rate"
   ]
  },
  {
   "cell_type": "code",
   "execution_count": 65,
   "metadata": {},
   "outputs": [],
   "source": [
    "model = Sequential()\n",
    "model.add(Dense(20, input_dim = X_train.shape[1],  activation=\"sigmoid\"))\n",
    "model.add(Dense(10,  activation=\"sigmoid\"))\n",
    "model.add(Dense(10,  activation=\"sigmoid\"))\n",
    "model.add(Dense(10,  activation=\"sigmoid\"))\n",
    "model.add(Dense(10,  activation=\"sigmoid\"))\n",
    "model.add(Dense(1))\n",
    "\n",
    "adam = optimizers.Adam()\n",
    "sgd = optimizers.SGD()\n",
    "\n",
    "model.compile(loss = losses.mean_squared_error, optimizer = adam)"
   ]
  },
  {
   "cell_type": "code",
   "execution_count": 66,
   "metadata": {},
   "outputs": [
    {
     "name": "stdout",
     "output_type": "stream",
     "text": [
      "_________________________________________________________________\n",
      "Layer (type)                 Output Shape              Param #   \n",
      "=================================================================\n",
      "dense_1 (Dense)              (None, 20)                340       \n",
      "_________________________________________________________________\n",
      "dense_2 (Dense)              (None, 10)                210       \n",
      "_________________________________________________________________\n",
      "dense_3 (Dense)              (None, 10)                110       \n",
      "_________________________________________________________________\n",
      "dense_4 (Dense)              (None, 10)                110       \n",
      "_________________________________________________________________\n",
      "dense_5 (Dense)              (None, 10)                110       \n",
      "_________________________________________________________________\n",
      "dense_6 (Dense)              (None, 1)                 11        \n",
      "=================================================================\n",
      "Total params: 891\n",
      "Trainable params: 891\n",
      "Non-trainable params: 0\n",
      "_________________________________________________________________\n"
     ]
    }
   ],
   "source": [
    "model.summary()"
   ]
  },
  {
   "cell_type": "code",
   "execution_count": 67,
   "metadata": {},
   "outputs": [],
   "source": [
    "monitor = EarlyStopping(monitor='val_loss', min_delta=1e-4, patience=30, verbose=1, mode='auto')\n",
    "checkpointer = ModelCheckpoint(filepath=\"best_weights.hdf5\", verbose=0, save_best_only=True)  # save best model\n",
    "scheduler = LearningRateScheduler(learning_rate_scheduler, verbose=1)"
   ]
  },
  {
   "cell_type": "code",
   "execution_count": 68,
   "metadata": {},
   "outputs": [
    {
     "name": "stdout",
     "output_type": "stream",
     "text": [
      "Train on 1033 samples, validate on 345 samples\n",
      "Epoch 1/10000\n",
      "1033/1033 [==============================] - 2s 2ms/step - loss: 47.7363 - val_loss: 9.0143\n",
      "Epoch 2/10000\n",
      "1033/1033 [==============================] - 1s 1ms/step - loss: 2.6467 - val_loss: 0.2854\n",
      "Epoch 3/10000\n",
      "1033/1033 [==============================] - 1s 1ms/step - loss: 0.1682 - val_loss: 0.1456\n",
      "Epoch 4/10000\n",
      "1033/1033 [==============================] - 1s 1ms/step - loss: 0.1446 - val_loss: 0.1474\n",
      "Epoch 5/10000\n",
      "1033/1033 [==============================] - 1s 1ms/step - loss: 0.1448 - val_loss: 0.1523\n",
      "Epoch 6/10000\n",
      "1033/1033 [==============================] - 1s 1ms/step - loss: 0.1456 - val_loss: 0.1454\n",
      "Epoch 7/10000\n",
      "1033/1033 [==============================] - 1s 1ms/step - loss: 0.1452 - val_loss: 0.1494\n",
      "Epoch 8/10000\n",
      "1033/1033 [==============================] - 1s 1ms/step - loss: 0.1461 - val_loss: 0.1453\n",
      "Epoch 9/10000\n",
      "1033/1033 [==============================] - 1s 1ms/step - loss: 0.1334 - val_loss: 0.0709\n",
      "Epoch 10/10000\n",
      "1033/1033 [==============================] - 1s 1ms/step - loss: 0.0492 - val_loss: 0.0387\n",
      "Epoch 11/10000\n",
      "1033/1033 [==============================] - 1s 1ms/step - loss: 0.0316 - val_loss: 0.0307\n",
      "Epoch 12/10000\n",
      "1033/1033 [==============================] - 1s 1ms/step - loss: 0.0260 - val_loss: 0.0277\n",
      "Epoch 13/10000\n",
      "1033/1033 [==============================] - 2s 2ms/step - loss: 0.0232 - val_loss: 0.0277\n",
      "Epoch 14/10000\n",
      "1033/1033 [==============================] - 2s 2ms/step - loss: 0.0226 - val_loss: 0.0258\n",
      "Epoch 15/10000\n",
      "1033/1033 [==============================] - 2s 2ms/step - loss: 0.0217 - val_loss: 0.0248\n",
      "Epoch 16/10000\n",
      "1033/1033 [==============================] - 1s 1ms/step - loss: 0.0212 - val_loss: 0.0251\n",
      "Epoch 17/10000\n",
      "1033/1033 [==============================] - 1s 1ms/step - loss: 0.0211 - val_loss: 0.0255\n",
      "Epoch 18/10000\n",
      "1033/1033 [==============================] - 2s 1ms/step - loss: 0.0206 - val_loss: 0.0264\n",
      "Epoch 19/10000\n",
      "1033/1033 [==============================] - 1s 1ms/step - loss: 0.0205 - val_loss: 0.0244\n",
      "Epoch 20/10000\n",
      "1033/1033 [==============================] - 1s 1ms/step - loss: 0.0204 - val_loss: 0.0314\n",
      "Epoch 21/10000\n",
      "1033/1033 [==============================] - 1s 1ms/step - loss: 0.0201 - val_loss: 0.0253\n",
      "Epoch 22/10000\n",
      "1033/1033 [==============================] - 1s 1ms/step - loss: 0.0205 - val_loss: 0.0241\n",
      "Epoch 23/10000\n",
      "1033/1033 [==============================] - 1s 1ms/step - loss: 0.0194 - val_loss: 0.0240\n",
      "Epoch 24/10000\n",
      "1033/1033 [==============================] - 1s 1ms/step - loss: 0.0198 - val_loss: 0.0246\n",
      "Epoch 25/10000\n",
      "1033/1033 [==============================] - 2s 1ms/step - loss: 0.0195 - val_loss: 0.0244\n",
      "Epoch 26/10000\n",
      "1033/1033 [==============================] - 1s 1ms/step - loss: 0.0195 - val_loss: 0.0255\n",
      "Epoch 27/10000\n",
      "1033/1033 [==============================] - 1s 1ms/step - loss: 0.0188 - val_loss: 0.0245\n",
      "Epoch 28/10000\n",
      "1033/1033 [==============================] - 1s 1ms/step - loss: 0.0198 - val_loss: 0.0242\n",
      "Epoch 29/10000\n",
      "1033/1033 [==============================] - 1s 1ms/step - loss: 0.0195 - val_loss: 0.0248\n",
      "Epoch 30/10000\n",
      "1033/1033 [==============================] - 1s 1ms/step - loss: 0.0188 - val_loss: 0.0288\n",
      "Epoch 31/10000\n",
      "1033/1033 [==============================] - 1s 1ms/step - loss: 0.0185 - val_loss: 0.0241\n",
      "Epoch 32/10000\n",
      "1033/1033 [==============================] - 1s 1ms/step - loss: 0.0185 - val_loss: 0.0238\n",
      "Epoch 33/10000\n",
      "1033/1033 [==============================] - 1s 1ms/step - loss: 0.0187 - val_loss: 0.0236\n",
      "Epoch 34/10000\n",
      "1033/1033 [==============================] - 1s 1ms/step - loss: 0.0189 - val_loss: 0.0243\n",
      "Epoch 35/10000\n",
      "1033/1033 [==============================] - 1s 1ms/step - loss: 0.0187 - val_loss: 0.0244\n",
      "Epoch 36/10000\n",
      "1033/1033 [==============================] - 1s 1ms/step - loss: 0.0186 - val_loss: 0.0238\n",
      "Epoch 37/10000\n",
      "1033/1033 [==============================] - 1s 1ms/step - loss: 0.0180 - val_loss: 0.0265\n",
      "Epoch 38/10000\n",
      "1033/1033 [==============================] - 1s 1ms/step - loss: 0.0184 - val_loss: 0.0271\n",
      "Epoch 39/10000\n",
      "1033/1033 [==============================] - 1s 1ms/step - loss: 0.0188 - val_loss: 0.0241\n",
      "Epoch 40/10000\n",
      "1033/1033 [==============================] - 1s 1ms/step - loss: 0.0178 - val_loss: 0.0276\n",
      "Epoch 41/10000\n",
      "1033/1033 [==============================] - 1s 1ms/step - loss: 0.0183 - val_loss: 0.0248\n",
      "Epoch 42/10000\n",
      "1033/1033 [==============================] - 1s 1ms/step - loss: 0.0178 - val_loss: 0.0270\n",
      "Epoch 43/10000\n",
      "1033/1033 [==============================] - 1s 1ms/step - loss: 0.0178 - val_loss: 0.0245\n",
      "Epoch 44/10000\n",
      "1033/1033 [==============================] - 2s 2ms/step - loss: 0.0177 - val_loss: 0.0248\n",
      "Epoch 45/10000\n",
      "1033/1033 [==============================] - 1s 1ms/step - loss: 0.0175 - val_loss: 0.0247\n",
      "Epoch 46/10000\n",
      "1033/1033 [==============================] - 1s 1ms/step - loss: 0.0176 - val_loss: 0.0256\n",
      "Epoch 47/10000\n",
      "1033/1033 [==============================] - 1s 1ms/step - loss: 0.0175 - val_loss: 0.0246\n",
      "Epoch 48/10000\n",
      "1033/1033 [==============================] - 1s 1ms/step - loss: 0.0174 - val_loss: 0.0238\n",
      "Epoch 49/10000\n",
      "1033/1033 [==============================] - 1s 1ms/step - loss: 0.0170 - val_loss: 0.0269\n",
      "Epoch 50/10000\n",
      "1033/1033 [==============================] - 2s 2ms/step - loss: 0.0173 - val_loss: 0.0271\n",
      "Epoch 51/10000\n",
      "1033/1033 [==============================] - 1s 1ms/step - loss: 0.0170 - val_loss: 0.0240\n",
      "Epoch 52/10000\n",
      "1033/1033 [==============================] - 1s 1ms/step - loss: 0.0167 - val_loss: 0.0257\n",
      "Epoch 53/10000\n",
      "1033/1033 [==============================] - 1s 1ms/step - loss: 0.0166 - val_loss: 0.0300\n",
      "Epoch 54/10000\n",
      "1033/1033 [==============================] - 1s 1ms/step - loss: 0.0170 - val_loss: 0.0280\n",
      "Epoch 55/10000\n",
      "1033/1033 [==============================] - 1s 1ms/step - loss: 0.0165 - val_loss: 0.0250\n",
      "Epoch 56/10000\n",
      "1033/1033 [==============================] - 1s 1ms/step - loss: 0.0167 - val_loss: 0.0247\n",
      "Epoch 57/10000\n",
      "1033/1033 [==============================] - 1s 1ms/step - loss: 0.0167 - val_loss: 0.0291\n",
      "Epoch 58/10000\n",
      "1033/1033 [==============================] - 1s 1ms/step - loss: 0.0166 - val_loss: 0.0242\n",
      "Epoch 59/10000\n",
      "1033/1033 [==============================] - 1s 1ms/step - loss: 0.0167 - val_loss: 0.0243\n",
      "Epoch 60/10000\n",
      "1033/1033 [==============================] - 1s 1ms/step - loss: 0.0162 - val_loss: 0.0279\n",
      "Epoch 61/10000\n",
      "1033/1033 [==============================] - 1s 1ms/step - loss: 0.0163 - val_loss: 0.0239\n",
      "Epoch 62/10000\n",
      "1033/1033 [==============================] - 1s 1ms/step - loss: 0.0162 - val_loss: 0.0243\n",
      "Epoch 63/10000\n",
      "1033/1033 [==============================] - 1s 1ms/step - loss: 0.0158 - val_loss: 0.0267\n",
      "Epoch 00063: early stopping\n"
     ]
    }
   ],
   "source": [
    "hist = model.fit(X_tr, y_tr, batch_size=1, validation_data = (X_val, y_val), callbacks=[monitor, checkpointer], verbose=1, epochs=10000)"
   ]
  },
  {
   "cell_type": "code",
   "execution_count": 69,
   "metadata": {},
   "outputs": [
    {
     "name": "stdout",
     "output_type": "stream",
     "text": [
      "19.34236870755206\n",
      "3932077.035756576\n"
     ]
    }
   ],
   "source": [
    "model.load_weights('best_weights.hdf5')  # load weights from best model\n",
    "\n",
    "# Measure accuracy\n",
    "to_predict = scaler.transform(mlp_feed)\n",
    "Ypred_mlp = np.exp(model.predict(to_predict))\n",
    "print(error(df_train['SalePrice'].values,Ypred_mlp))\n",
    "print(error_mse(df_train['SalePrice'].values, Ypred_mlp))"
   ]
  },
  {
   "cell_type": "code",
   "execution_count": 70,
   "metadata": {},
   "outputs": [
    {
     "data": {
      "text/html": [
       "<div>\n",
       "<style scoped>\n",
       "    .dataframe tbody tr th:only-of-type {\n",
       "        vertical-align: middle;\n",
       "    }\n",
       "\n",
       "    .dataframe tbody tr th {\n",
       "        vertical-align: top;\n",
       "    }\n",
       "\n",
       "    .dataframe thead th {\n",
       "        text-align: right;\n",
       "    }\n",
       "</style>\n",
       "<table border=\"1\" class=\"dataframe\">\n",
       "  <thead>\n",
       "    <tr style=\"text-align: right;\">\n",
       "      <th></th>\n",
       "      <th>Y</th>\n",
       "      <th>Ypred</th>\n",
       "      <th>Id</th>\n",
       "    </tr>\n",
       "  </thead>\n",
       "  <tbody>\n",
       "    <tr>\n",
       "      <th>0</th>\n",
       "      <td>208500</td>\n",
       "      <td>203000.0</td>\n",
       "      <td>1</td>\n",
       "    </tr>\n",
       "    <tr>\n",
       "      <th>1</th>\n",
       "      <td>181500</td>\n",
       "      <td>184000.0</td>\n",
       "      <td>2</td>\n",
       "    </tr>\n",
       "    <tr>\n",
       "      <th>2</th>\n",
       "      <td>223500</td>\n",
       "      <td>211000.0</td>\n",
       "      <td>3</td>\n",
       "    </tr>\n",
       "    <tr>\n",
       "      <th>3</th>\n",
       "      <td>140000</td>\n",
       "      <td>198000.0</td>\n",
       "      <td>4</td>\n",
       "    </tr>\n",
       "    <tr>\n",
       "      <th>4</th>\n",
       "      <td>250000</td>\n",
       "      <td>292000.0</td>\n",
       "      <td>5</td>\n",
       "    </tr>\n",
       "    <tr>\n",
       "      <th>5</th>\n",
       "      <td>143000</td>\n",
       "      <td>155000.0</td>\n",
       "      <td>6</td>\n",
       "    </tr>\n",
       "    <tr>\n",
       "      <th>6</th>\n",
       "      <td>307000</td>\n",
       "      <td>301000.0</td>\n",
       "      <td>7</td>\n",
       "    </tr>\n",
       "    <tr>\n",
       "      <th>7</th>\n",
       "      <td>200000</td>\n",
       "      <td>210000.0</td>\n",
       "      <td>8</td>\n",
       "    </tr>\n",
       "    <tr>\n",
       "      <th>8</th>\n",
       "      <td>129900</td>\n",
       "      <td>130000.0</td>\n",
       "      <td>9</td>\n",
       "    </tr>\n",
       "    <tr>\n",
       "      <th>9</th>\n",
       "      <td>118000</td>\n",
       "      <td>125000.0</td>\n",
       "      <td>10</td>\n",
       "    </tr>\n",
       "  </tbody>\n",
       "</table>\n",
       "</div>"
      ],
      "text/plain": [
       "        Y     Ypred  Id\n",
       "0  208500  203000.0   1\n",
       "1  181500  184000.0   2\n",
       "2  223500  211000.0   3\n",
       "3  140000  198000.0   4\n",
       "4  250000  292000.0   5\n",
       "5  143000  155000.0   6\n",
       "6  307000  301000.0   7\n",
       "7  200000  210000.0   8\n",
       "8  129900  130000.0   9\n",
       "9  118000  125000.0  10"
      ]
     },
     "execution_count": 70,
     "metadata": {},
     "output_type": "execute_result"
    }
   ],
   "source": [
    "tmp_df = pd.DataFrame()\n",
    "tmp_df['Y'] = df_train['SalePrice']\n",
    "tmp_df['Ypred'] = np.around(Ypred_mlp, decimals=-3)\n",
    "tmp_df['Id'] = df_train['Id']\n",
    "tmp_df.head(10)"
   ]
  },
  {
   "cell_type": "code",
   "execution_count": 71,
   "metadata": {},
   "outputs": [
    {
     "data": {
      "text/plain": [
       "array([202842.53, 184073.2 , 210916.83, ..., 255136.86, 129591.12,\n",
       "       142775.14], dtype=float32)"
      ]
     },
     "execution_count": 71,
     "metadata": {},
     "output_type": "execute_result"
    }
   ],
   "source": [
    "Ypred_mlp.flatten()"
   ]
  },
  {
   "cell_type": "code",
   "execution_count": 72,
   "metadata": {},
   "outputs": [
    {
     "data": {
      "text/plain": [
       "<matplotlib.axes._subplots.AxesSubplot at 0x7f92f464e160>"
      ]
     },
     "execution_count": 72,
     "metadata": {},
     "output_type": "execute_result"
    },
    {
     "data": {
      "image/png": "[encoded data removed]",
      "text/plain": [
       "<matplotlib.figure.Figure at 0x7f92f4665eb8>"
      ]
     },
     "metadata": {},
     "output_type": "display_data"
    }
   ],
   "source": [
    "predictions = pd.DataFrame({\"xgb\":xgb_preds, \"mlp\":Ypred_mlp.flatten()})\n",
    "predictions.plot(x = \"xgb\", y = \"mlp\", kind = \"scatter\")"
   ]
  },
  {
   "cell_type": "code",
   "execution_count": null,
   "metadata": {},
   "outputs": [],
   "source": []
  }
 ],
 "metadata": {
  "kernelspec": {
   "display_name": "Python 3",
   "language": "python",
   "name": "python3"
  },
  "language_info": {
   "codemirror_mode": {
    "name": "ipython",
    "version": 3
   },
   "file_extension": ".py",
   "mimetype": "text/x-python",
   "name": "python",
   "nbconvert_exporter": "python",
   "pygments_lexer": "ipython3",
   "version": "3.6.4"
  }
 },
 "nbformat": 4,
 "nbformat_minor": 1
}
